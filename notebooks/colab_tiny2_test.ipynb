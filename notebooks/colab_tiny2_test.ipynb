{
  "nbformat": 4,
  "nbformat_minor": 0,
  "metadata": {
    "colab": {
      "provenance": [],
      "gpuType": "T4"
    },
    "kernelspec": {
      "name": "python3",
      "display_name": "Python 3"
    },
    "language_info": {
      "name": "python"
    },
    "accelerator": "GPU"
  },
  "cells": [
    {
      "cell_type": "code",
      "source": [
        "!ssh-keygen -t rsa -b 4096 -f ~/.ssh/id_rsa -N ''"
      ],
      "metadata": {
        "colab": {
          "base_uri": "https://localhost:8080/"
        },
        "id": "74PmgAil-WGG",
        "outputId": "02aaa1b8-3bc5-44b8-856b-cd7d503c9daa"
      },
      "execution_count": 6,
      "outputs": [
        {
          "output_type": "stream",
          "name": "stdout",
          "text": [
            "Generating public/private rsa key pair.\n",
            "Created directory '/root/.ssh'.\n",
            "Your identification has been saved in /root/.ssh/id_rsa\n",
            "Your public key has been saved in /root/.ssh/id_rsa.pub\n",
            "The key fingerprint is:\n",
            "SHA256:82d+bxOT8SH0P98dNazyZxhlf3hpSXSMu8+DZjuXnpg root@81b29174a812\n",
            "The key's randomart image is:\n",
            "+---[RSA 4096]----+\n",
            "|               o |\n",
            "|             ...o|\n",
            "|            . +..|\n",
            "|             ..X.|\n",
            "|        S     *o%|\n",
            "|         o . ooX*|\n",
            "|          . = =+@|\n",
            "|           + B+BO|\n",
            "|            +EB=+|\n",
            "+----[SHA256]-----+\n"
          ]
        }
      ]
    },
    {
      "cell_type": "code",
      "source": [
        "!ssh-keyscan -t rsa github.com >> ~/.ssh/known_hosts"
      ],
      "metadata": {
        "colab": {
          "base_uri": "https://localhost:8080/"
        },
        "id": "5eswlVF4-lAq",
        "outputId": "7368b23f-3f97-4eb8-9132-287cf4f2e934"
      },
      "execution_count": 7,
      "outputs": [
        {
          "output_type": "stream",
          "name": "stdout",
          "text": [
            "# github.com:22 SSH-2.0-babeld-2b739aa97\n"
          ]
        }
      ]
    },
    {
      "cell_type": "code",
      "source": [
        "\n",
        "!cat ~/.ssh/id_rsa.pub"
      ],
      "metadata": {
        "colab": {
          "base_uri": "https://localhost:8080/"
        },
        "id": "v3ZnvFfe-oFt",
        "outputId": "64e86e71-5ef5-4606-be44-86b149083a3f"
      },
      "execution_count": 8,
      "outputs": [
        {
          "output_type": "stream",
          "name": "stdout",
          "text": [
            "ssh-rsa AAAAB3NzaC1yc2EAAAADAQABAAACAQCKS4pQE9i/6uw8iDQChYUrWQDo+vf8hJfDJ8ricxBJ2e/BR2yOSst8KDYVcvsLfSd+Y4DRXqxRrC1om3AVCtuLZlgKUn2XEFRIOXpbm3uw/0/RAQvqBWEUSZSO1pNSNZO2SRpgPfI7iWgGKrH2RFyQplnBxIGggB4yDYmfw0kdSJUttB3DZ7gUDM5AX5xc6R2LTHTp33BXER5XaO4WChSgDDS5Lyjn2MhmZRCr/N1YKcNPYGvH/3bgTMM9pllNj6lKqB/LlH6j8EUHqizAQZ4I9tEdMJC3mr6wqEk+8hJmX1BSpsNB4weqVpxHP3YnhR02c1dH9py2KAmSPo0CIHLSMZjoZN30ikPymaZ9n0GQvKrjILl7TA3C128+FVwgNjIy8hlcXkeFrDT8OxpAETMInMKhmIP4b6agJf/RG4X3Lk387moofVyqAzWy73Zl9gWz88zEBKeg+KSPMyRz01bC+uiefN/G0T5iOEiCBvnMkk8wc5AUU8BQCXwJKD2S0czL+PlrmPxGi+TrVwESiq+pCkdm25paRbq2O1YoxCZNF9TRhA1nIYVp6nnyj2wP0XlhrvZ+vDeJo90pKe60komzau/Spb31GvioiVfPuASVDFBj1iT4QcBKB4NTrDnGosAFI26zQ9OA7Drib4rkDhfoRvi6CwMjrsDyDg4LflYqzw== root@81b29174a812\n"
          ]
        }
      ]
    },
    {
      "cell_type": "code",
      "source": [
        "!ssh -T git@github.com"
      ],
      "metadata": {
        "colab": {
          "base_uri": "https://localhost:8080/"
        },
        "id": "AYaZoedQ-ptF",
        "outputId": "6e0881ad-cd71-40f8-a989-56258802eeed"
      },
      "execution_count": 9,
      "outputs": [
        {
          "output_type": "stream",
          "name": "stdout",
          "text": [
            "git@github.com: Permission denied (publickey).\r\n"
          ]
        }
      ]
    },
    {
      "cell_type": "code",
      "source": [
        "!git clone git@github.com:pyramidheadshark/BIV_2024.git"
      ],
      "metadata": {
        "colab": {
          "base_uri": "https://localhost:8080/"
        },
        "id": "8HdrzzMB_SCf",
        "outputId": "17acded2-3267-4480-ab77-2fb81811c56c"
      },
      "execution_count": 10,
      "outputs": [
        {
          "output_type": "stream",
          "name": "stdout",
          "text": [
            "Cloning into 'BIV_2024'...\n",
            "remote: Enumerating objects: 63, done.\u001b[K\n",
            "remote: Counting objects: 100% (63/63), done.\u001b[K\n",
            "remote: Compressing objects: 100% (46/46), done.\u001b[K\n",
            "remote: Total 63 (delta 14), reused 58 (delta 10), pack-reused 0 (from 0)\u001b[K\n",
            "Receiving objects: 100% (63/63), 1.60 MiB | 6.83 MiB/s, done.\n",
            "Resolving deltas: 100% (14/14), done.\n"
          ]
        }
      ]
    },
    {
      "cell_type": "code",
      "source": [
        "import os\n",
        "\n",
        "os.chdir('BIV_2024')\n",
        "os.system('git checkout bert')\n",
        "os.listdir()"
      ],
      "metadata": {
        "colab": {
          "base_uri": "https://localhost:8080/"
        },
        "id": "Cv4-VPlj_TqM",
        "outputId": "43498dc9-9679-4e75-f441-a25ba22b4733"
      },
      "execution_count": 18,
      "outputs": [
        {
          "output_type": "execute_result",
          "data": {
            "text/plain": [
              "['notebooks', 'data', 'src', '.gitignore', '.git']"
            ]
          },
          "metadata": {},
          "execution_count": 18
        }
      ]
    },
    {
      "cell_type": "code",
      "source": [
        "!pip install datasets > None"
      ],
      "metadata": {
        "colab": {
          "base_uri": "https://localhost:8080/"
        },
        "id": "O3iouAcV_gn-",
        "outputId": "4e729aa5-19f8-445b-acb5-c0fdd09a6a14"
      },
      "execution_count": 21,
      "outputs": [
        {
          "output_type": "stream",
          "name": "stdout",
          "text": [
            "\u001b[31mERROR: pip's dependency resolver does not currently take into account all the packages that are installed. This behaviour is the source of the following dependency conflicts.\n",
            "gcsfs 2024.10.0 requires fsspec==2024.10.0, but you have fsspec 2024.9.0 which is incompatible.\u001b[0m\u001b[31m\n",
            "\u001b[0m"
          ]
        }
      ]
    },
    {
      "cell_type": "code",
      "source": [
        "!python3 src/models_dev/train.py \\\n",
        "                   --file_path data/processed/payments_categorized.tsv \\\n",
        "                   --model_name cointegrated/rubert-tiny2 \\\n",
        "                   --output_dir ./results \\\n",
        "                   --batch_size 128 \\\n",
        "                   --epochs 3 \\\n",
        "                   --learning_rate 5e-5 \\\n",
        "                   --save_path models/trained_model"
      ],
      "metadata": {
        "colab": {
          "base_uri": "https://localhost:8080/"
        },
        "id": "8O_yfckW_975",
        "outputId": "c74910eb-0b44-4698-d982-672418a8b94c"
      },
      "execution_count": 34,
      "outputs": [
        {
          "output_type": "stream",
          "name": "stdout",
          "text": [
            "2024-11-16 08:25:59.488111: E external/local_xla/xla/stream_executor/cuda/cuda_fft.cc:485] Unable to register cuFFT factory: Attempting to register factory for plugin cuFFT when one has already been registered\n",
            "2024-11-16 08:25:59.509190: E external/local_xla/xla/stream_executor/cuda/cuda_dnn.cc:8454] Unable to register cuDNN factory: Attempting to register factory for plugin cuDNN when one has already been registered\n",
            "2024-11-16 08:25:59.515192: E external/local_xla/xla/stream_executor/cuda/cuda_blas.cc:1452] Unable to register cuBLAS factory: Attempting to register factory for plugin cuBLAS when one has already been registered\n",
            "2024-11-16 08:25:59.529494: I tensorflow/core/platform/cpu_feature_guard.cc:210] This TensorFlow binary is optimized to use available CPU instructions in performance-critical operations.\n",
            "To enable the following instructions: AVX2 FMA, in other operations, rebuild TensorFlow with the appropriate compiler flags.\n",
            "2024-11-16 08:26:00.728144: W tensorflow/compiler/tf2tensorrt/utils/py_utils.cc:38] TF-TRT Warning: Could not find TensorRT\n",
            "/content/BIV_2024/src/models_dev/train.py:14: SettingWithCopyWarning: \n",
            "A value is trying to be set on a copy of a slice from a DataFrame.\n",
            "Try using .loc[row_indexer,col_indexer] = value instead\n",
            "\n",
            "See the caveats in the documentation: https://pandas.pydata.org/pandas-docs/stable/user_guide/indexing.html#returning-a-view-versus-a-copy\n",
            "  df['category'] = df['category'].astype('category').cat.codes\n",
            "/content/BIV_2024/src/models_dev/train.py:14: SettingWithCopyWarning: \n",
            "A value is trying to be set on a copy of a slice from a DataFrame.\n",
            "Try using .loc[row_indexer,col_indexer] = value instead\n",
            "\n",
            "See the caveats in the documentation: https://pandas.pydata.org/pandas-docs/stable/user_guide/indexing.html#returning-a-view-versus-a-copy\n",
            "  df['category'] = df['category'].astype('category').cat.codes\n",
            "Some weights of BertForSequenceClassification were not initialized from the model checkpoint at cointegrated/rubert-tiny2 and are newly initialized: ['classifier.bias', 'classifier.weight']\n",
            "You should probably TRAIN this model on a down-stream task to be able to use it for predictions and inference.\n",
            "Map: 100% 18934/18934 [00:02<00:00, 7734.69 examples/s]\n",
            "Map: 100% 4734/4734 [00:00<00:00, 7657.24 examples/s]\n",
            "/usr/local/lib/python3.10/dist-packages/transformers/training_args.py:1568: FutureWarning: `evaluation_strategy` is deprecated and will be removed in version 4.46 of 🤗 Transformers. Use `eval_strategy` instead\n",
            "  warnings.warn(\n",
            "/content/BIV_2024/src/models_dev/train.py:82: FutureWarning: `tokenizer` is deprecated and will be removed in version 5.0.0 for `Trainer.__init__`. Use `processing_class` instead.\n",
            "  trainer = Trainer(\n",
            "\u001b[34m\u001b[1mwandb\u001b[0m: \u001b[33mWARNING\u001b[0m The `run_name` is currently set to the same value as `TrainingArguments.output_dir`. If this was not intended, please specify a different run name by setting the `TrainingArguments.run_name` parameter.\n",
            "\u001b[34m\u001b[1mwandb\u001b[0m: Using wandb-core as the SDK backend.  Please refer to https://wandb.me/wandb-core for more information.\n",
            "\u001b[34m\u001b[1mwandb\u001b[0m: Currently logged in as: \u001b[33mbratakmckey\u001b[0m (\u001b[33mbratakmckey-parsub\u001b[0m). Use \u001b[1m`wandb login --relogin`\u001b[0m to force relogin\n",
            "\u001b[34m\u001b[1mwandb\u001b[0m: Tracking run with wandb version 0.18.6\n",
            "\u001b[34m\u001b[1mwandb\u001b[0m: Run data is saved locally in \u001b[35m\u001b[1m/content/BIV_2024/wandb/run-20241116_082607-8j8rf0zg\u001b[0m\n",
            "\u001b[34m\u001b[1mwandb\u001b[0m: Run \u001b[1m`wandb offline`\u001b[0m to turn off syncing.\n",
            "\u001b[34m\u001b[1mwandb\u001b[0m: Syncing run \u001b[33m./results\u001b[0m\n",
            "\u001b[34m\u001b[1mwandb\u001b[0m: ⭐️ View project at \u001b[34m\u001b[4mhttps://wandb.ai/bratakmckey-parsub/huggingface\u001b[0m\n",
            "\u001b[34m\u001b[1mwandb\u001b[0m: 🚀 View run at \u001b[34m\u001b[4mhttps://wandb.ai/bratakmckey-parsub/huggingface/runs/8j8rf0zg\u001b[0m\n",
            " 22% 99/444 [00:10<00:31, 11.02it/s]\n",
            "  0% 0/37 [00:00<?, ?it/s]\u001b[A\n",
            " 14% 5/37 [00:00<00:00, 45.98it/s]\u001b[A\n",
            " 27% 10/37 [00:00<00:00, 38.76it/s]\u001b[A\n",
            " 38% 14/37 [00:00<00:00, 37.45it/s]\u001b[A\n",
            " 49% 18/37 [00:00<00:00, 36.63it/s]\u001b[A\n",
            " 59% 22/37 [00:00<00:00, 35.51it/s]\u001b[A\n",
            " 70% 26/37 [00:00<00:00, 35.50it/s]\u001b[A\n",
            " 81% 30/37 [00:00<00:00, 35.77it/s]\u001b[A\n",
            "                                    \n",
            "\u001b[A{'eval_loss': 1.4192686080932617, 'eval_accuracy': 0.6062526404731728, 'eval_f1': 0.5877598723080335, 'eval_runtime': 1.08, 'eval_samples_per_second': 4383.241, 'eval_steps_per_second': 34.259, 'epoch': 0.68}\n",
            " 23% 100/444 [00:11<00:31, 11.02it/s]\n",
            "100% 37/37 [00:01<00:00, 34.25it/s]\u001b[A\n",
            " 45% 199/444 [00:20<00:22, 10.95it/s]\n",
            "  0% 0/37 [00:00<?, ?it/s]\u001b[A\n",
            " 14% 5/37 [00:00<00:00, 45.22it/s]\u001b[A\n",
            " 27% 10/37 [00:00<00:00, 38.00it/s]\u001b[A\n",
            " 38% 14/37 [00:00<00:00, 35.94it/s]\u001b[A\n",
            " 49% 18/37 [00:00<00:00, 35.78it/s]\u001b[A\n",
            " 59% 22/37 [00:00<00:00, 35.47it/s]\u001b[A\n",
            " 70% 26/37 [00:00<00:00, 35.21it/s]\u001b[A\n",
            " 81% 30/37 [00:00<00:00, 35.06it/s]\u001b[A\n",
            "                                     \n",
            "\u001b[A{'eval_loss': 1.2338751554489136, 'eval_accuracy': 0.6899028305872412, 'eval_f1': 0.6892066125067859, 'eval_runtime': 1.0715, 'eval_samples_per_second': 4417.917, 'eval_steps_per_second': 34.53, 'epoch': 1.35}\n",
            " 45% 200/444 [00:22<00:22, 10.95it/s]\n",
            "100% 37/37 [00:01<00:00, 34.86it/s]\u001b[A\n",
            " 68% 300/444 [00:31<00:13, 10.69it/s]\n",
            "  0% 0/37 [00:00<?, ?it/s]\u001b[A\n",
            " 14% 5/37 [00:00<00:00, 40.84it/s]\u001b[A\n",
            " 27% 10/37 [00:00<00:00, 36.40it/s]\u001b[A\n",
            " 38% 14/37 [00:00<00:00, 34.98it/s]\u001b[A\n",
            " 49% 18/37 [00:00<00:00, 34.72it/s]\u001b[A\n",
            " 59% 22/37 [00:00<00:00, 34.68it/s]\u001b[A\n",
            " 70% 26/37 [00:00<00:00, 34.20it/s]\u001b[A\n",
            " 81% 30/37 [00:00<00:00, 34.08it/s]\u001b[A\n",
            "                                     \n",
            "\u001b[A{'eval_loss': 1.2100938558578491, 'eval_accuracy': 0.6915927334178285, 'eval_f1': 0.6910254396219917, 'eval_runtime': 1.1017, 'eval_samples_per_second': 4297.17, 'eval_steps_per_second': 33.586, 'epoch': 2.03}\n",
            " 68% 300/444 [00:32<00:13, 10.69it/s]\n",
            "100% 37/37 [00:01<00:00, 34.18it/s]\u001b[A\n",
            " 90% 400/444 [00:42<00:04,  9.75it/s]\n",
            "  0% 0/37 [00:00<?, ?it/s]\u001b[A\n",
            " 11% 4/37 [00:00<00:00, 37.23it/s]\u001b[A\n",
            " 22% 8/37 [00:00<00:00, 29.87it/s]\u001b[A\n",
            " 32% 12/37 [00:00<00:00, 28.84it/s]\u001b[A\n",
            " 41% 15/37 [00:00<00:00, 28.29it/s]\u001b[A\n",
            " 49% 18/37 [00:00<00:00, 27.71it/s]\u001b[A\n",
            " 57% 21/37 [00:00<00:00, 27.46it/s]\u001b[A\n",
            " 68% 25/37 [00:00<00:00, 29.85it/s]\u001b[A\n",
            " 78% 29/37 [00:00<00:00, 31.19it/s]\u001b[A\n",
            " 89% 33/37 [00:01<00:00, 31.93it/s]\u001b[A\n",
            "                                     \n",
            "\u001b[A{'eval_loss': 1.205061674118042, 'eval_accuracy': 0.6937051119560625, 'eval_f1': 0.6933099418700085, 'eval_runtime': 1.2571, 'eval_samples_per_second': 3765.729, 'eval_steps_per_second': 29.432, 'epoch': 2.7}\n",
            " 90% 400/444 [00:43<00:04,  9.75it/s]\n",
            "100% 37/37 [00:01<00:00, 33.52it/s]\u001b[A\n",
            "{'train_runtime': 50.3423, 'train_samples_per_second': 1128.315, 'train_steps_per_second': 8.82, 'train_loss': 1.3706511076506194, 'epoch': 3.0}\n",
            "100% 444/444 [00:48<00:00,  9.08it/s]\n",
            "100% 37/37 [00:01<00:00, 34.77it/s]\n",
            "{'eval_loss': 1.2045834064483643, 'eval_accuracy': 0.6943388255175328, 'eval_f1': 0.6939855968766533, 'eval_runtime': 1.0987, 'eval_samples_per_second': 4308.754, 'eval_steps_per_second': 33.676, 'epoch': 3.0}\n",
            "\u001b[1;34mwandb\u001b[0m: 🚀 View run \u001b[33m./results\u001b[0m at: \u001b[34mhttps://wandb.ai/bratakmckey-parsub/huggingface/runs/8j8rf0zg\u001b[0m\n",
            "\u001b[1;34mwandb\u001b[0m: Find logs at: \u001b[1;35mwandb/run-20241116_082607-8j8rf0zg/logs\u001b[0m\n"
          ]
        }
      ]
    },
    {
      "cell_type": "code",
      "source": [
        "!pip install optimum > None"
      ],
      "metadata": {
        "id": "Cnrwa_UJFeY8"
      },
      "execution_count": 36,
      "outputs": []
    },
    {
      "cell_type": "code",
      "source": [
        "!pip install onnxruntime > None"
      ],
      "metadata": {
        "id": "47b2dBK9FhO6"
      },
      "execution_count": 38,
      "outputs": []
    },
    {
      "cell_type": "code",
      "source": [
        "!pip install onnx > None"
      ],
      "metadata": {
        "id": "5zeqRCVsFqsY"
      },
      "execution_count": 40,
      "outputs": []
    },
    {
      "cell_type": "code",
      "source": [
        "!python3 src/models_dev/convert_to_onnx.py \\\n",
        "                            --model_path models/trained_model \\\n",
        "                            --onnx_path models/onnx_model"
      ],
      "metadata": {
        "colab": {
          "base_uri": "https://localhost:8080/"
        },
        "id": "Or-sJJmHB7T4",
        "outputId": "526fa90a-a48d-4529-a357-0f72726f7537"
      },
      "execution_count": 41,
      "outputs": [
        {
          "output_type": "stream",
          "name": "stdout",
          "text": [
            "2024-11-16 08:28:57.503910: E external/local_xla/xla/stream_executor/cuda/cuda_fft.cc:485] Unable to register cuFFT factory: Attempting to register factory for plugin cuFFT when one has already been registered\n",
            "2024-11-16 08:28:57.534186: E external/local_xla/xla/stream_executor/cuda/cuda_dnn.cc:8454] Unable to register cuDNN factory: Attempting to register factory for plugin cuDNN when one has already been registered\n",
            "2024-11-16 08:28:57.549838: E external/local_xla/xla/stream_executor/cuda/cuda_blas.cc:1452] Unable to register cuBLAS factory: Attempting to register factory for plugin cuBLAS when one has already been registered\n",
            "2024-11-16 08:28:57.576300: I tensorflow/core/platform/cpu_feature_guard.cc:210] This TensorFlow binary is optimized to use available CPU instructions in performance-critical operations.\n",
            "To enable the following instructions: AVX2 FMA, in other operations, rebuild TensorFlow with the appropriate compiler flags.\n",
            "2024-11-16 08:28:59.248452: W tensorflow/compiler/tf2tensorrt/utils/py_utils.cc:38] TF-TRT Warning: Could not find TensorRT\n",
            "Конвертация модели в формат ONNX...\n",
            "The argument `from_transformers` is deprecated, and will be removed in optimum 2.0.  Use `export` instead\n",
            "Модель успешно сохранена в формате ONNX: models/onnx_model\n"
          ]
        }
      ]
    },
    {
      "cell_type": "code",
      "source": [
        "!python3 src/models_dev/quantize.py --onnx_model_path models/onnx_model/model.onnx \\\n",
        "                                --save_dir models/onnx_model \\\n",
        "                                --max_length 128"
      ],
      "metadata": {
        "colab": {
          "base_uri": "https://localhost:8080/"
        },
        "id": "duV0Baf3Di_v",
        "outputId": "30878ed3-af6b-42ec-b6a1-8350148e5d97"
      },
      "execution_count": 42,
      "outputs": [
        {
          "output_type": "stream",
          "name": "stdout",
          "text": [
            "WARNING:root:Please consider to run pre-processing before quantization. Refer to example: https://github.com/microsoft/onnxruntime-inference-examples/blob/main/quantization/image_classification/cpu/ReadMe.md \n",
            "Модель квантована и сохранена: models/onnx_model/model_quantized.onnx\n"
          ]
        }
      ]
    },
    {
      "cell_type": "code",
      "source": [
        "!python3 src/models_dev/q_infer.py --file_path data/raw/payments_main.tsv \\\n",
        "                 --model_path models/onnx_model/model_quantized.onnx \\\n",
        "                 --tokenizer_path models/onnx_model \\\n",
        "                 --output_file data/predictions.tsv \\\n",
        "                 --batch_size 64 \\\n",
        "                 --max_length 128"
      ],
      "metadata": {
        "colab": {
          "base_uri": "https://localhost:8080/"
        },
        "id": "JNRAAXZKDvh6",
        "outputId": "9f4425c2-11e4-4393-be5e-3703599a9335"
      },
      "execution_count": 43,
      "outputs": [
        {
          "output_type": "stream",
          "name": "stdout",
          "text": [
            "Inferencing: 100% 391/391 [02:07<00:00,  3.06it/s]\n",
            "Predictions saved to data/predictions.tsv\n"
          ]
        }
      ]
    },
    {
      "cell_type": "code",
      "source": [
        "!zip -r models.zip models/onnx_model"
      ],
      "metadata": {
        "colab": {
          "base_uri": "https://localhost:8080/"
        },
        "id": "7-qrw6kMGFg-",
        "outputId": "dbbddaaf-e232-4635-de56-bbbd6e32c1f0"
      },
      "execution_count": 44,
      "outputs": [
        {
          "output_type": "stream",
          "name": "stdout",
          "text": [
            "  adding: models/onnx_model/ (stored 0%)\n",
            "  adding: models/onnx_model/tokenizer_config.json (deflated 73%)\n",
            "  adding: models/onnx_model/vocab.txt (deflated 64%)\n",
            "  adding: models/onnx_model/model_quantized.onnx (deflated 34%)\n",
            "  adding: models/onnx_model/model.onnx (deflated 8%)\n",
            "  adding: models/onnx_model/special_tokens_map.json (deflated 80%)\n",
            "  adding: models/onnx_model/config.json (deflated 56%)\n",
            "  adding: models/onnx_model/tokenizer.json (deflated 73%)\n"
          ]
        }
      ]
    },
    {
      "cell_type": "code",
      "source": [
        "from sklearn.model_selection import train_test_split\n",
        "import pandas as pd\n",
        "\n",
        "data = pd.read_csv(\"data/processed/payments_categorized.tsv\", sep='\\t', header=None, names=['date', 'amount', 'description', 'category'])\n",
        "data.drop(index=0, inplace=True)\n",
        "data = data.dropna(subset=['category'])\n",
        "train_data, val_data = train_test_split(data, test_size=0.2, stratify=data['category'], random_state=42)\n",
        "\n",
        "# Сохранение val_data для тестирования\n",
        "val_data.to_csv(\"data/processed/val_data.tsv\", sep='\\t', index=False)"
      ],
      "metadata": {
        "id": "68Cwtt4RGzTZ"
      },
      "execution_count": 45,
      "outputs": []
    },
    {
      "cell_type": "code",
      "source": [
        "!python3 src/models_dev/q_infer_val.py \\\n",
        "    --val_data_path data/processed/val_data.tsv \\\n",
        "    --model_path models/onnx_model/model_quantized.onnx \\\n",
        "    --tokenizer_path models/onnx_model \\\n",
        "    --batch_size 64 \\\n",
        "    --max_length 128"
      ],
      "metadata": {
        "colab": {
          "base_uri": "https://localhost:8080/"
        },
        "id": "yi98JL3wI2s2",
        "outputId": "4300757c-6ffc-463d-87c5-52a85fe8be62"
      },
      "execution_count": 49,
      "outputs": [
        {
          "output_type": "stream",
          "name": "stdout",
          "text": [
            "Inferencing: 100% 74/74 [00:25<00:00,  2.90it/s]\n",
            "True labels: [3, 1, 4, 7, 6, 2, 4, 4, 1, 4]\n",
            "Predictions: [3, 1, 7, 7, 6, 2, 4, 4, 1, 4]\n",
            "Validation Accuracy: 0.6941\n",
            "Validation F1 Score: 0.6938\n"
          ]
        }
      ]
    },
    {
      "cell_type": "code",
      "source": [],
      "metadata": {
        "id": "vpk7LPRQJE1R"
      },
      "execution_count": null,
      "outputs": []
    }
  ]
}