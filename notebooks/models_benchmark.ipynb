{
 "cells": [
  {
   "cell_type": "code",
   "execution_count": null,
   "metadata": {},
   "outputs": [],
   "source": [
    "import os\n",
    "import pathlib\n",
    "\n",
    "import pandas as pd\n",
    "\n",
    "from sentence_transformers import SentenceTransforme, util\n",
    "from transformers import AutoTokenizer, AutoModelForSequenceClassification\n",
    "\n",
    "import torch\n",
    "from torch.utils.data import DataLoader\n",
    "from datasets import load_dataset"
   ]
  },
  {
   "cell_type": "code",
   "execution_count": null,
   "metadata": {},
   "outputs": [],
   "source": [
    "LABSE_UNTRAINED_PATH = pathlib.Path(os.getcwd()) / \"..\" / \"models\" / \"labse_untrained.pt\"\n",
    "RUBERT_UNTRAINED_PATH = pathlib.Path(os.getcwd()) / \"..\" / \"models\" / \"rubert_untrained.pt\"\n",
    "USER_UNTRAINED_PATH = pathlib.Path(os.getcwd()) / \"..\" / \"models\" / \"user_untrained.pt\""
   ]
  },
  {
   "cell_type": "code",
   "execution_count": null,
   "metadata": {},
   "outputs": [],
   "source": [
    "model_labse = SentenceTransformer('sergeyzh/LaBSE-ru-turbo')\n",
    "model_rubert = SentenceTransformer('sergeyzh/rubert-tiny-turbo')\n",
    "model_user = SentenceTransformer('deepvk/USER-base')"
   ]
  },
  {
   "cell_type": "code",
   "execution_count": null,
   "metadata": {},
   "outputs": [],
   "source": [
    "torch.save(model_labse, 'labse.pt')\n",
    "torch.save(model_rubert, 'rubert.pt')\n",
    "torch.save(model_user, 'user.pt')"
   ]
  },
  {
   "cell_type": "code",
   "execution_count": null,
   "metadata": {},
   "outputs": [],
   "source": [
    "dataset = "
   ]
  }
 ],
 "metadata": {
  "kernelspec": {
   "display_name": "BIV_2024",
   "language": "python",
   "name": "python3"
  },
  "language_info": {
   "name": "python",
   "version": "3.12.7"
  }
 },
 "nbformat": 4,
 "nbformat_minor": 2
}
