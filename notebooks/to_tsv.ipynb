{
 "cells": [
  {
   "cell_type": "code",
   "execution_count": 2,
   "id": "incorporate-workshop",
   "metadata": {},
   "outputs": [
    {
     "name": "stdout",
     "output_type": "stream",
     "text": [
      "Файл ../data/processed/dataset.csv успешно конвертирован в ../data/processed/dataset.tsv\n",
      "Файл ../data/processed/dataset_oversampled.csv успешно конвертирован в ../data/processed/dataset_oversampled.tsv\n"
     ]
    }
   ],
   "source": [
    "import pandas as pd\n",
    "import os\n",
    "\n",
    "def convert_csv_to_tsv(csv_filepath, tsv_filepath):\n",
    "    \"\"\"\n",
    "    Конвертирует CSV файл в TSV файл.\n",
    "\n",
    "    Args:\n",
    "        csv_filepath: Путь к CSV файлу.\n",
    "        tsv_filepath: Путь к TSV файлу (куда сохранить).\n",
    "    \"\"\"\n",
    "    try:\n",
    "        df = pd.read_csv(csv_filepath) # Читаем CSV\n",
    "        df.to_csv(tsv_filepath, sep='\\t', index=False) # Сохраняем как TSV, sep='\\t' указывает разделитель табуляцией, index=False убирает индекс\n",
    "        print(f\"Файл {csv_filepath} успешно конвертирован в {tsv_filepath}\")\n",
    "    except FileNotFoundError:\n",
    "        print(f\"Ошибка: Файл {csv_filepath} не найден.\")\n",
    "    except Exception as e:\n",
    "        print(f\"Ошибка при конвертации файла {csv_filepath}: {e}\")\n",
    "\n",
    "\n",
    "def main():\n",
    "    csv_files = [\n",
    "        \"../data/processed/dataset.csv\",\n",
    "        \"../data/processed/dataset_oversampled.csv\"\n",
    "    ]\n",
    "\n",
    "    for csv_file in csv_files:\n",
    "        tsv_file = os.path.splitext(csv_file)[0] + \".tsv\" # Меняем расширение на .tsv\n",
    "        convert_csv_to_tsv(csv_file, tsv_file)\n",
    "\n",
    "if __name__ == \"__main__\":\n",
    "    main()\n",
    "\n"
   ]
  },
  {
   "cell_type": "code",
   "execution_count": 3,
   "id": "amber-latter",
   "metadata": {},
   "outputs": [],
   "source": [
    "from sklearn.model_selection import train_test_split\n",
    "import pandas as pd\n",
    "\n",
    "data = pd.read_csv(\"../data/processed/dataset.tsv\", sep='\\t', header=None, names=['description', 'category'])\n",
    "train_data, val_data = train_test_split(data, test_size=0.2, stratify=data['category'], random_state=42)\n",
    "\n",
    "val_data.to_csv(\"../data/processed/val_data_dataset.tsv\", sep='\\t', index=False)"
   ]
  },
  {
   "cell_type": "code",
   "execution_count": null,
   "id": "agricultural-strand",
   "metadata": {},
   "outputs": [],
   "source": []
  }
 ],
 "metadata": {
  "kernelspec": {
   "display_name": "Python 3",
   "language": "python",
   "name": "python3"
  },
  "language_info": {
   "codemirror_mode": {
    "name": "ipython",
    "version": 3
   },
   "file_extension": ".py",
   "mimetype": "text/x-python",
   "name": "python",
   "nbconvert_exporter": "python",
   "pygments_lexer": "ipython3",
   "version": "3.9.7"
  }
 },
 "nbformat": 4,
 "nbformat_minor": 5
}
