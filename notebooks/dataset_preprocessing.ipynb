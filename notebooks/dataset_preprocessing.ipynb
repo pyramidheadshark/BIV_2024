{
 "cells": [
  {
   "cell_type": "code",
   "execution_count": 106,
   "metadata": {},
   "outputs": [],
   "source": [
    "import os\n",
    "import pathlib\n",
    "\n",
    "import pandas as pd\n",
    "import seaborn as sns\n",
    "import matplotlib.pyplot as plt"
   ]
  },
  {
   "cell_type": "code",
   "execution_count": 107,
   "metadata": {},
   "outputs": [],
   "source": [
    "PAYMENTS_MAIN_PATH = pathlib.Path(os.getcwd()) / \"..\" / \"data\" / \"raw\" / \"payments_main.tsv\"\n",
    "PAYMENTS_TRAINING_PATH = pathlib.Path(os.getcwd()) / \"..\" / \"data\" / \"raw\" / \"payments_training.tsv\""
   ]
  },
  {
   "cell_type": "code",
   "execution_count": 108,
   "metadata": {},
   "outputs": [],
   "source": [
    "PAYMENTS_MAIN_NEW_PATH = pathlib.Path(os.getcwd()) / \"..\" / \"data\" / \"processed\" / \"payments_main.tsv\"\n",
    "PAYMENTS_TRAINING_NEW_PATH = pathlib.Path(os.getcwd()) / \"..\" / \"data\" / \"processed\" / \"payments_training.tsv\""
   ]
  },
  {
   "cell_type": "code",
   "execution_count": 109,
   "metadata": {},
   "outputs": [
    {
     "data": {
      "text/html": [
       "<div>\n",
       "<style scoped>\n",
       "    .dataframe tbody tr th:only-of-type {\n",
       "        vertical-align: middle;\n",
       "    }\n",
       "\n",
       "    .dataframe tbody tr th {\n",
       "        vertical-align: top;\n",
       "    }\n",
       "\n",
       "    .dataframe thead th {\n",
       "        text-align: right;\n",
       "    }\n",
       "</style>\n",
       "<table border=\"1\" class=\"dataframe\">\n",
       "  <thead>\n",
       "    <tr style=\"text-align: right;\">\n",
       "      <th></th>\n",
       "      <th>Date</th>\n",
       "      <th>Amount</th>\n",
       "      <th>Description</th>\n",
       "    </tr>\n",
       "  </thead>\n",
       "  <tbody>\n",
       "    <tr>\n",
       "      <th>1</th>\n",
       "      <td>07.11.2024</td>\n",
       "      <td>40500.00</td>\n",
       "      <td>За тур.поездку по договору №001 от 27.01.2023г</td>\n",
       "    </tr>\n",
       "    <tr>\n",
       "      <th>2</th>\n",
       "      <td>07.11.2024</td>\n",
       "      <td>32600,00</td>\n",
       "      <td>За оказание услуг по договору №53Б-02746 от 23...</td>\n",
       "    </tr>\n",
       "    <tr>\n",
       "      <th>3</th>\n",
       "      <td>07.11.2024</td>\n",
       "      <td>4710-00</td>\n",
       "      <td>Оплата штрафа</td>\n",
       "    </tr>\n",
       "    <tr>\n",
       "      <th>4</th>\n",
       "      <td>07.11.2024</td>\n",
       "      <td>30900-00</td>\n",
       "      <td>Лечение по договору №Д-00359/24 от 08.03.2025</td>\n",
       "    </tr>\n",
       "    <tr>\n",
       "      <th>5</th>\n",
       "      <td>07.11.2024</td>\n",
       "      <td>13200.00</td>\n",
       "      <td>Оплата основного долга за период с 16.12.2024г...</td>\n",
       "    </tr>\n",
       "  </tbody>\n",
       "</table>\n",
       "</div>"
      ],
      "text/plain": [
       "         Date    Amount                                        Description\n",
       "1  07.11.2024  40500.00     За тур.поездку по договору №001 от 27.01.2023г\n",
       "2  07.11.2024  32600,00  За оказание услуг по договору №53Б-02746 от 23...\n",
       "3  07.11.2024   4710-00                                      Оплата штрафа\n",
       "4  07.11.2024  30900-00      Лечение по договору №Д-00359/24 от 08.03.2025\n",
       "5  07.11.2024  13200.00  Оплата основного долга за период с 16.12.2024г..."
      ]
     },
     "execution_count": 109,
     "metadata": {},
     "output_type": "execute_result"
    }
   ],
   "source": [
    "df_main = pd.read_csv(PAYMENTS_MAIN_PATH, sep=\"\\t\", index_col=0, names=['Date', 'Amount', 'Description'])\n",
    "df_main.head()"
   ]
  },
  {
   "cell_type": "code",
   "execution_count": 110,
   "metadata": {},
   "outputs": [
    {
     "data": {
      "text/html": [
       "<div>\n",
       "<style scoped>\n",
       "    .dataframe tbody tr th:only-of-type {\n",
       "        vertical-align: middle;\n",
       "    }\n",
       "\n",
       "    .dataframe tbody tr th {\n",
       "        vertical-align: top;\n",
       "    }\n",
       "\n",
       "    .dataframe thead th {\n",
       "        text-align: right;\n",
       "    }\n",
       "</style>\n",
       "<table border=\"1\" class=\"dataframe\">\n",
       "  <thead>\n",
       "    <tr style=\"text-align: right;\">\n",
       "      <th></th>\n",
       "      <th>Date</th>\n",
       "      <th>Amount</th>\n",
       "      <th>Description</th>\n",
       "      <th>Category</th>\n",
       "    </tr>\n",
       "  </thead>\n",
       "  <tbody>\n",
       "    <tr>\n",
       "      <th>1</th>\n",
       "      <td>07.11.2024</td>\n",
       "      <td>15300.00</td>\n",
       "      <td>За участие в конференции в г. Майкоп по догово...</td>\n",
       "      <td>SERVICE</td>\n",
       "    </tr>\n",
       "    <tr>\n",
       "      <th>2</th>\n",
       "      <td>07.11.2024</td>\n",
       "      <td>40200,00</td>\n",
       "      <td>За оказание услуг по договору №79-02726В от 01...</td>\n",
       "      <td>SERVICE</td>\n",
       "    </tr>\n",
       "    <tr>\n",
       "      <th>3</th>\n",
       "      <td>07.11.2024</td>\n",
       "      <td>1440-00</td>\n",
       "      <td>Оплата за Порошок стиральный Ariel Color autom...</td>\n",
       "      <td>NON_FOOD_GOODS</td>\n",
       "    </tr>\n",
       "    <tr>\n",
       "      <th>4</th>\n",
       "      <td>07.11.2024</td>\n",
       "      <td>240000000-00</td>\n",
       "      <td>Возврат денежных средств по договору займа №04...</td>\n",
       "      <td>LOAN</td>\n",
       "    </tr>\n",
       "    <tr>\n",
       "      <th>5</th>\n",
       "      <td>07.11.2024</td>\n",
       "      <td>1360000.00</td>\n",
       "      <td>Оплата Дог №452 от 13/03/2021, согл. Сч 0745-2...</td>\n",
       "      <td>NOT_CLASSIFIED</td>\n",
       "    </tr>\n",
       "  </tbody>\n",
       "</table>\n",
       "</div>"
      ],
      "text/plain": [
       "         Date        Amount  \\\n",
       "1  07.11.2024      15300.00   \n",
       "2  07.11.2024      40200,00   \n",
       "3  07.11.2024       1440-00   \n",
       "4  07.11.2024  240000000-00   \n",
       "5  07.11.2024    1360000.00   \n",
       "\n",
       "                                         Description        Category  \n",
       "1  За участие в конференции в г. Майкоп по догово...         SERVICE  \n",
       "2  За оказание услуг по договору №79-02726В от 01...         SERVICE  \n",
       "3  Оплата за Порошок стиральный Ariel Color autom...  NON_FOOD_GOODS  \n",
       "4  Возврат денежных средств по договору займа №04...            LOAN  \n",
       "5  Оплата Дог №452 от 13/03/2021, согл. Сч 0745-2...  NOT_CLASSIFIED  "
      ]
     },
     "execution_count": 110,
     "metadata": {},
     "output_type": "execute_result"
    }
   ],
   "source": [
    "df_train = pd.read_csv(PAYMENTS_TRAINING_PATH, sep=\"\\t\", index_col=0, names=['Date', 'Amount', 'Description', 'Category'])\n",
    "df_train['Category'] = df_train['Category'].replace({'REALE_STATE': 'REAL_ESTATE'})\n",
    "df_train.head()"
   ]
  },
  {
   "cell_type": "code",
   "execution_count": 111,
   "metadata": {},
   "outputs": [
    {
     "data": {
      "text/html": [
       "<div>\n",
       "<style scoped>\n",
       "    .dataframe tbody tr th:only-of-type {\n",
       "        vertical-align: middle;\n",
       "    }\n",
       "\n",
       "    .dataframe tbody tr th {\n",
       "        vertical-align: top;\n",
       "    }\n",
       "\n",
       "    .dataframe thead th {\n",
       "        text-align: right;\n",
       "    }\n",
       "</style>\n",
       "<table border=\"1\" class=\"dataframe\">\n",
       "  <thead>\n",
       "    <tr style=\"text-align: right;\">\n",
       "      <th></th>\n",
       "      <th>Date</th>\n",
       "      <th>Amount</th>\n",
       "      <th>Description</th>\n",
       "      <th>Category</th>\n",
       "    </tr>\n",
       "  </thead>\n",
       "  <tbody>\n",
       "    <tr>\n",
       "      <th>1</th>\n",
       "      <td>07.11.2024</td>\n",
       "      <td>15300.00</td>\n",
       "      <td>За участие в конференции в г. Майкоп по догово...</td>\n",
       "      <td>SERVICE</td>\n",
       "    </tr>\n",
       "    <tr>\n",
       "      <th>2</th>\n",
       "      <td>07.11.2024</td>\n",
       "      <td>40200,00</td>\n",
       "      <td>За оказание услуг по договору №79-02726В от 01...</td>\n",
       "      <td>SERVICE</td>\n",
       "    </tr>\n",
       "    <tr>\n",
       "      <th>3</th>\n",
       "      <td>07.11.2024</td>\n",
       "      <td>1440-00</td>\n",
       "      <td>Оплата за Порошок стиральный Ariel Color autom...</td>\n",
       "      <td>NON_FOOD_GOODS</td>\n",
       "    </tr>\n",
       "    <tr>\n",
       "      <th>4</th>\n",
       "      <td>07.11.2024</td>\n",
       "      <td>240000000-00</td>\n",
       "      <td>Возврат денежных средств по договору займа №04...</td>\n",
       "      <td>LOAN</td>\n",
       "    </tr>\n",
       "    <tr>\n",
       "      <th>5</th>\n",
       "      <td>07.11.2024</td>\n",
       "      <td>1360000.00</td>\n",
       "      <td>Оплата Дог №452 от 13/03/2021, согл. Сч 0745-2...</td>\n",
       "      <td>NOT_CLASSIFIED</td>\n",
       "    </tr>\n",
       "    <tr>\n",
       "      <th>...</th>\n",
       "      <td>...</td>\n",
       "      <td>...</td>\n",
       "      <td>...</td>\n",
       "      <td>...</td>\n",
       "    </tr>\n",
       "    <tr>\n",
       "      <th>496</th>\n",
       "      <td>07.11.2024</td>\n",
       "      <td>2610.00</td>\n",
       "      <td>Оплата налогов</td>\n",
       "      <td>TAX</td>\n",
       "    </tr>\n",
       "    <tr>\n",
       "      <th>497</th>\n",
       "      <td>07.11.2024</td>\n",
       "      <td>31200-00</td>\n",
       "      <td>Комиссия за выполнение функций агента валютног...</td>\n",
       "      <td>BANK_SERVICE</td>\n",
       "    </tr>\n",
       "    <tr>\n",
       "      <th>498</th>\n",
       "      <td>07.11.2024</td>\n",
       "      <td>18200-00</td>\n",
       "      <td>За тур.поездку по договору №75-04243Г от 24/04...</td>\n",
       "      <td>SERVICE</td>\n",
       "    </tr>\n",
       "    <tr>\n",
       "      <th>499</th>\n",
       "      <td>07.11.2024</td>\n",
       "      <td>2870000,00</td>\n",
       "      <td>Оплата по договору №095 от 24.02.2025г, счету ...</td>\n",
       "      <td>FOOD_GOODS</td>\n",
       "    </tr>\n",
       "    <tr>\n",
       "      <th>500</th>\n",
       "      <td>07.11.2024</td>\n",
       "      <td>2210-00</td>\n",
       "      <td>Оплата коммунальных услуг</td>\n",
       "      <td>SERVICE</td>\n",
       "    </tr>\n",
       "  </tbody>\n",
       "</table>\n",
       "<p>500 rows × 4 columns</p>\n",
       "</div>"
      ],
      "text/plain": [
       "           Date        Amount  \\\n",
       "1    07.11.2024      15300.00   \n",
       "2    07.11.2024      40200,00   \n",
       "3    07.11.2024       1440-00   \n",
       "4    07.11.2024  240000000-00   \n",
       "5    07.11.2024    1360000.00   \n",
       "..          ...           ...   \n",
       "496  07.11.2024       2610.00   \n",
       "497  07.11.2024      31200-00   \n",
       "498  07.11.2024      18200-00   \n",
       "499  07.11.2024    2870000,00   \n",
       "500  07.11.2024       2210-00   \n",
       "\n",
       "                                           Description        Category  \n",
       "1    За участие в конференции в г. Майкоп по догово...         SERVICE  \n",
       "2    За оказание услуг по договору №79-02726В от 01...         SERVICE  \n",
       "3    Оплата за Порошок стиральный Ariel Color autom...  NON_FOOD_GOODS  \n",
       "4    Возврат денежных средств по договору займа №04...            LOAN  \n",
       "5    Оплата Дог №452 от 13/03/2021, согл. Сч 0745-2...  NOT_CLASSIFIED  \n",
       "..                                                 ...             ...  \n",
       "496                                     Оплата налогов             TAX  \n",
       "497  Комиссия за выполнение функций агента валютног...    BANK_SERVICE  \n",
       "498  За тур.поездку по договору №75-04243Г от 24/04...         SERVICE  \n",
       "499  Оплата по договору №095 от 24.02.2025г, счету ...      FOOD_GOODS  \n",
       "500                          Оплата коммунальных услуг         SERVICE  \n",
       "\n",
       "[500 rows x 4 columns]"
      ]
     },
     "execution_count": 111,
     "metadata": {},
     "output_type": "execute_result"
    }
   ],
   "source": [
    "df_train"
   ]
  },
  {
   "cell_type": "code",
   "execution_count": 112,
   "metadata": {},
   "outputs": [
    {
     "name": "stdout",
     "output_type": "stream",
     "text": [
      "<class 'pandas.core.frame.DataFrame'>\n",
      "Index: 25000 entries, 1 to 25000\n",
      "Data columns (total 3 columns):\n",
      " #   Column       Non-Null Count  Dtype \n",
      "---  ------       --------------  ----- \n",
      " 0   Date         25000 non-null  object\n",
      " 1   Amount       25000 non-null  object\n",
      " 2   Description  25000 non-null  object\n",
      "dtypes: object(3)\n",
      "memory usage: 781.2+ KB\n"
     ]
    }
   ],
   "source": [
    "df_main.info()"
   ]
  },
  {
   "cell_type": "code",
   "execution_count": 113,
   "metadata": {},
   "outputs": [
    {
     "name": "stdout",
     "output_type": "stream",
     "text": [
      "<class 'pandas.core.frame.DataFrame'>\n",
      "Index: 500 entries, 1 to 500\n",
      "Data columns (total 4 columns):\n",
      " #   Column       Non-Null Count  Dtype \n",
      "---  ------       --------------  ----- \n",
      " 0   Date         500 non-null    object\n",
      " 1   Amount       500 non-null    object\n",
      " 2   Description  500 non-null    object\n",
      " 3   Category     500 non-null    object\n",
      "dtypes: object(4)\n",
      "memory usage: 19.5+ KB\n"
     ]
    }
   ],
   "source": [
    "df_train.info()"
   ]
  },
  {
   "cell_type": "code",
   "execution_count": 114,
   "metadata": {},
   "outputs": [
    {
     "data": {
      "text/plain": [
       "Category\n",
       "NON_FOOD_GOODS    96\n",
       "FOOD_GOODS        90\n",
       "SERVICE           88\n",
       "BANK_SERVICE      49\n",
       "TAX               48\n",
       "LOAN              41\n",
       "LEASING           38\n",
       "REAL_ESTATE       27\n",
       "NOT_CLASSIFIED    23\n",
       "Name: count, dtype: int64"
      ]
     },
     "execution_count": 114,
     "metadata": {},
     "output_type": "execute_result"
    }
   ],
   "source": [
    "value_counts = df_train['Category'].value_counts()\n",
    "value_counts"
   ]
  },
  {
   "cell_type": "code",
   "execution_count": 115,
   "metadata": {},
   "outputs": [
    {
     "data": {
      "image/png": "[encoded data removed]",
      "text/plain": [
       "<Figure size 640x480 with 1 Axes>"
      ]
     },
     "metadata": {},
     "output_type": "display_data"
    }
   ],
   "source": [
    "sns.barplot(\n",
    "    x=value_counts.index,\n",
    "    y=value_counts,\n",
    "    palette='coolwarm',\n",
    "    hue=value_counts\n",
    ")\n",
    "plt.xlabel('Categories', fontsize=10)\n",
    "plt.ylabel('Count', fontsize=10)\n",
    "plt.title('Распределение Categories', fontsize=14)\n",
    "plt.xticks(rotation=90)\n",
    "plt.tick_params(axis='both', which='major', labelsize=10)\n",
    "\n",
    "plt.show()"
   ]
  },
  {
   "cell_type": "code",
   "execution_count": 116,
   "metadata": {},
   "outputs": [],
   "source": [
    "df_main.to_csv(PAYMENTS_MAIN_NEW_PATH, sep=\"\\t\", index=False)\n",
    "df_train.to_csv(PAYMENTS_TRAINING_NEW_PATH, sep=\"\\t\", index=False)"
   ]
  }
 ],
 "metadata": {
  "kernelspec": {
   "display_name": "BIV_2024",
   "language": "python",
   "name": "python3"
  },
  "language_info": {
   "codemirror_mode": {
    "name": "ipython",
    "version": 3
   },
   "file_extension": ".py",
   "mimetype": "text/x-python",
   "name": "python",
   "nbconvert_exporter": "python",
   "pygments_lexer": "ipython3",
   "version": "3.12.7"
  }
 },
 "nbformat": 4,
 "nbformat_minor": 2
}
