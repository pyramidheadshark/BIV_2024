{
 "cells": [
  {
   "cell_type": "code",
   "execution_count": 198,
   "metadata": {},
   "outputs": [],
   "source": [
    "import os\n",
    "import re\n",
    "import pathlib\n",
    "\n",
    "import nltk\n",
    "\n",
    "import numpy as np\n",
    "import pandas as pd\n",
    "import matplotlib.pyplot as plt\n",
    "\n",
    "from nltk.corpus import stopwords\n",
    "from pymorphy2 import MorphAnalyzer\n",
    "from wordcloud import WordCloud\n",
    "from PIL import Image\n",
    "from ydata_profiling import ProfileReport"
   ]
  },
  {
   "cell_type": "code",
   "execution_count": 199,
   "metadata": {},
   "outputs": [
    {
     "name": "stderr",
     "output_type": "stream",
     "text": [
      "[nltk_data] Downloading package stopwords to\n",
      "[nltk_data]     C:\\Users\\pyramidheadshark\\AppData\\Roaming\\nltk_data...\n",
      "[nltk_data]   Package stopwords is already up-to-date!\n"
     ]
    },
    {
     "data": {
      "text/plain": [
       "True"
      ]
     },
     "execution_count": 199,
     "metadata": {},
     "output_type": "execute_result"
    }
   ],
   "source": [
    "nltk.download('stopwords')"
   ]
  },
  {
   "cell_type": "code",
   "execution_count": 200,
   "metadata": {},
   "outputs": [],
   "source": [
    "morph = MorphAnalyzer()"
   ]
  },
  {
   "cell_type": "code",
   "execution_count": 201,
   "metadata": {},
   "outputs": [],
   "source": [
    "DF_PATH = pathlib.Path(os.getcwd()) / \"..\" / \"data\" / \"processed\" / \"dataset.csv\""
   ]
  },
  {
   "cell_type": "code",
   "execution_count": 202,
   "metadata": {},
   "outputs": [],
   "source": [
    "df = pd.read_csv(\n",
    "    DF_PATH    \n",
    ")\n",
    "\n",
    "df_copy = df.copy()\n",
    "\n",
    "categorial_dfs = {\n",
    "    str(category): \\\n",
    "        df[df['Category'] == category].reset_index(drop=True) \\\n",
    "        for category in df['Category'].unique()\n",
    "}"
   ]
  },
  {
   "cell_type": "code",
   "execution_count": 203,
   "metadata": {},
   "outputs": [],
   "source": [
    "def clean_text_from_specsymbols(text):\n",
    "    return re.sub(r\"[^a-zA-Zа-яА-ЯёЁ\\s]\", \"\", text)\n",
    "\n",
    "def clean_text_from_single_letters(text):\n",
    "    return re.sub(r\"\\b[а-яёa-zA-Z0-9]\\b\", \"\", text, flags=re.IGNORECASE)\n",
    "\n",
    "def clean_text_from_double_letters(text):\n",
    "    return re.sub(r\"\\b[a-zA-Zа-яА-Я]{2}\\b\", \"\", text, flags=re.IGNORECASE)\n",
    "\n",
    "def clean_text_from_unneccesary(text):\n",
    "    words = nltk.word_tokenize(text)\n",
    "    \n",
    "    russian_stopwords = stopwords.words('russian')\n",
    "\n",
    "    clean_words = []\n",
    "    for word in words:\n",
    "        lemma = morph.parse(word)[0].normal_form\n",
    "        if lemma not in russian_stopwords:\n",
    "            clean_words.append(lemma)\n",
    "\n",
    "    return ' '.join(clean_words)"
   ]
  },
  {
   "cell_type": "code",
   "execution_count": 204,
   "metadata": {},
   "outputs": [],
   "source": [
    "for category, df in categorial_dfs.items():\n",
    "    df['Description'] = df['Description'].apply(clean_text_from_specsymbols)\n",
    "    df['Description'] = df['Description'].apply(clean_text_from_single_letters)\n",
    "    df['Description'] = df['Description'].apply(clean_text_from_double_letters)\n",
    "    df['Description'] = df['Description'].apply(clean_text_from_unneccesary)\n"
   ]
  },
  {
   "cell_type": "code",
   "execution_count": 205,
   "metadata": {},
   "outputs": [],
   "source": [
    "def get_word_counts(df):\n",
    "    word_freq = {}\n",
    "    for text in df['Description']:\n",
    "        words = text.split()\n",
    "        for word in words:\n",
    "            lemma = morph.parse(word)[0].normal_form\n",
    "            if lemma not in stopwords.words('russian'):\n",
    "                word_freq[lemma] = word_freq.get(lemma, 0) + 1\n",
    "    return word_freq\n",
    "                \n",
    "def get_wordcloud(word_freq):\n",
    "    wordcloud = WordCloud(\n",
    "        max_words=50,\n",
    "        width=1200,\n",
    "        height=1000,\n",
    "        background_color='white',\n",
    "        colormap='Blues_r'\n",
    "        ).generate_from_frequencies(word_freq)\n",
    "    plt.figure(figsize=(10, 6))\n",
    "    plt.imshow(wordcloud, interpolation='bilinear')\n",
    "    plt.axis(\"off\")\n",
    "    plt.show()\n",
    "    \n",
    "def get_wordcloud_slonik(word_freq):\n",
    "    mask = np.array(Image.open('logo.png'))\n",
    "    \n",
    "    wordcloud = WordCloud(\n",
    "        scale=4,\n",
    "        width=1200,\n",
    "        height=1200,\n",
    "        mask=mask,\n",
    "        background_color='white',\n",
    "        colormap='Blues_r',\n",
    "        contour_color='#ADD8E6',\n",
    "        contour_width=1\n",
    "        ).generate_from_frequencies(word_freq)\n",
    "    plt.figure(figsize=(10, 6))\n",
    "    plt.imshow(wordcloud)\n",
    "    plt.axis(\"off\")\n",
    "    plt.savefig('test.png')\n",
    "    plt.show()"
   ]
  },
  {
   "cell_type": "code",
   "execution_count": 206,
   "metadata": {},
   "outputs": [],
   "source": [
    "def create_report(df, name):\n",
    "    profile = ProfileReport(df, title=\"Summarize dataset\")\n",
    "    profile.to_file(f\"report_{name}.html\")"
   ]
  },
  {
   "cell_type": "markdown",
   "metadata": {},
   "source": [
    "---"
   ]
  },
  {
   "cell_type": "markdown",
   "metadata": {},
   "source": [
    "И ещё желательно в переменные среды передать word_freq на каждое множество, чтобы фича могла взаимодействовать адекватно"
   ]
  },
  {
   "cell_type": "code",
   "execution_count": 210,
   "metadata": {},
   "outputs": [
    {
     "name": "stdout",
     "output_type": "stream",
     "text": [
      "                                            Description Category\n",
      "0                                    турпоездка договор  SERVICE\n",
      "1                               оказание услуга договор  SERVICE\n",
      "2                                       лечение договор  SERVICE\n",
      "3                                       лечение договор  SERVICE\n",
      "4                                оказание прочий услуга  SERVICE\n",
      "...                                                 ...      ...\n",
      "2382                   медицинский обслуживание договор  SERVICE\n",
      "2383                       оказание услуга договор июнь  SERVICE\n",
      "2384  транспортировка перевозка автомобиль коломна э...  SERVICE\n",
      "2385  оплата сентябрь транспортный услуга ндс облага...  SERVICE\n",
      "2386                участие конференция саранск договор  SERVICE\n",
      "\n",
      "[2387 rows x 2 columns]\n"
     ]
    },
    {
     "data": {
      "application/vnd.jupyter.widget-view+json": {
       "model_id": "43e1db72000a427a80070c65f6c20038",
       "version_major": 2,
       "version_minor": 0
      },
      "text/plain": [
       "Summarize dataset:   0%|          | 0/5 [00:00<?, ?it/s]"
      ]
     },
     "metadata": {},
     "output_type": "display_data"
    },
    {
     "data": {
      "application/vnd.jupyter.widget-view+json": {
       "model_id": "5eb41ecd029041bf91f04b248feca09e",
       "version_major": 2,
       "version_minor": 0
      },
      "text/plain": [
       "Generate report structure:   0%|          | 0/1 [00:00<?, ?it/s]"
      ]
     },
     "metadata": {},
     "output_type": "display_data"
    },
    {
     "data": {
      "application/vnd.jupyter.widget-view+json": {
       "model_id": "4c92ca16a1cf4272b6842b3ba95d8569",
       "version_major": 2,
       "version_minor": 0
      },
      "text/plain": [
       "Render HTML:   0%|          | 0/1 [00:00<?, ?it/s]"
      ]
     },
     "metadata": {},
     "output_type": "display_data"
    },
    {
     "data": {
      "application/vnd.jupyter.widget-view+json": {
       "model_id": "fb2b384faade44108c06bb9504203289",
       "version_major": 2,
       "version_minor": 0
      },
      "text/plain": [
       "Export report to file:   0%|          | 0/1 [00:00<?, ?it/s]"
      ]
     },
     "metadata": {},
     "output_type": "display_data"
    },
    {
     "name": "stdout",
     "output_type": "stream",
     "text": [
      "                                          Description Category\n",
      "0                                        оплата штраф      TAX\n",
      "1                             государственный пошлина      TAX\n",
      "2                                   оплата гос услуга      TAX\n",
      "3                                         гос пошлина      TAX\n",
      "4                                        оплата налог      TAX\n",
      "5                                  оплата гос пошлина      TAX\n",
      "6                   выплата содержание родный ребёнок      TAX\n",
      "7                                        оплата налог      TAX\n",
      "8                                           госуслуга      TAX\n",
      "9                                    консульский сбор      TAX\n",
      "10                     оплата государственный пошлина      TAX\n",
      "11                                              налог      TAX\n",
      "12                                   консульский сбор      TAX\n",
      "13                                              штраф      TAX\n",
      "14                                           наолгать      TAX\n",
      "15                  выплата содеражний родный ребёнок      TAX\n",
      "16     оплата дкп июнь коттедж посёлок благовещенский      TAX\n",
      "17  оплата счёт апрель возмещать расход сумма числ...      TAX\n",
      "18                                  оплата гос услгуя      TAX\n",
      "19                                      оплата штарфа      TAX\n",
      "20               оплата процент период январь договор      TAX\n",
      "21                            государственаня пошлина      TAX\n",
      "22                            государственный полшина      TAX\n",
      "23  оплата пластырь econta медицинский счёт апрель...      TAX\n",
      "24  оплата консервы рыба морепродукт счёт январь с...      TAX\n",
      "25                            государственный пошлниа      TAX\n",
      "26                                       оплата наолг      TAX\n",
      "27  оплата запчасть договор поставка гбд автодом а...      TAX\n",
      "28  оплата запчасть договор поставка гбд автодом а...      TAX\n",
      "29                                    оплата налоогть      TAX\n",
      "30  оплата договор декабрь акт транспортный услуга...      TAX\n",
      "31                            государственный пошилна      TAX\n",
      "32                                        гос полшина      TAX\n",
      "33                                оплата гос усулгать      TAX\n",
      "34                  выплата содежрание родный ребёнок      TAX\n"
     ]
    },
    {
     "data": {
      "application/vnd.jupyter.widget-view+json": {
       "model_id": "811576476ca043b793a2b5406874ebda",
       "version_major": 2,
       "version_minor": 0
      },
      "text/plain": [
       "Summarize dataset:   0%|          | 0/5 [00:00<?, ?it/s]"
      ]
     },
     "metadata": {},
     "output_type": "display_data"
    },
    {
     "data": {
      "application/vnd.jupyter.widget-view+json": {
       "model_id": "ff6374fb28ae4ef9aad919bd92f9224c",
       "version_major": 2,
       "version_minor": 0
      },
      "text/plain": [
       "Generate report structure:   0%|          | 0/1 [00:00<?, ?it/s]"
      ]
     },
     "metadata": {},
     "output_type": "display_data"
    },
    {
     "data": {
      "application/vnd.jupyter.widget-view+json": {
       "model_id": "407ae8dcef9649a0bf5a2e181721bac6",
       "version_major": 2,
       "version_minor": 0
      },
      "text/plain": [
       "Render HTML:   0%|          | 0/1 [00:00<?, ?it/s]"
      ]
     },
     "metadata": {},
     "output_type": "display_data"
    },
    {
     "data": {
      "application/vnd.jupyter.widget-view+json": {
       "model_id": "72674a92134f4e84b87fc38a7d0adf92",
       "version_major": 2,
       "version_minor": 0
      },
      "text/plain": [
       "Export report to file:   0%|          | 0/1 [00:00<?, ?it/s]"
      ]
     },
     "metadata": {},
     "output_type": "display_data"
    },
    {
     "name": "stdout",
     "output_type": "stream",
     "text": [
      "                                           Description      Category\n",
      "0    оплата основный долг период март договор оао в...  BANK_SERVICE\n",
      "1         комиссионный вознаграждение валютный перевод  BANK_SERVICE\n",
      "2    оплата основный долг период ноябрь договор оао...  BANK_SERVICE\n",
      "3    предоставление денежный средство договор заём ндс  BANK_SERVICE\n",
      "4    оплата договор май сырьё пищевой промышленност...  BANK_SERVICE\n",
      "..                                                 ...           ...\n",
      "648  предоставление денежный средство договор заём ...  BANK_SERVICE\n",
      "649  предоставление креидт договор октябрь приобрет...  BANK_SERVICE\n",
      "650  предоставление денежный средство договор заём ндс  BANK_SERVICE\n",
      "651  комиссия обслуживание система клиентбанк перио...  BANK_SERVICE\n",
      "652  комиссия акб первый банк изготовление запрос к...  BANK_SERVICE\n",
      "\n",
      "[653 rows x 2 columns]\n"
     ]
    },
    {
     "data": {
      "application/vnd.jupyter.widget-view+json": {
       "model_id": "af0f6c54f83943f5aab04d2ee6c04067",
       "version_major": 2,
       "version_minor": 0
      },
      "text/plain": [
       "Summarize dataset:   0%|          | 0/5 [00:00<?, ?it/s]"
      ]
     },
     "metadata": {},
     "output_type": "display_data"
    },
    {
     "data": {
      "application/vnd.jupyter.widget-view+json": {
       "model_id": "5828c15264f84d91be090325f131fa4d",
       "version_major": 2,
       "version_minor": 0
      },
      "text/plain": [
       "Generate report structure:   0%|          | 0/1 [00:00<?, ?it/s]"
      ]
     },
     "metadata": {},
     "output_type": "display_data"
    },
    {
     "data": {
      "application/vnd.jupyter.widget-view+json": {
       "model_id": "be7201ce3da64bde8cb28e63010b98da",
       "version_major": 2,
       "version_minor": 0
      },
      "text/plain": [
       "Render HTML:   0%|          | 0/1 [00:00<?, ?it/s]"
      ]
     },
     "metadata": {},
     "output_type": "display_data"
    },
    {
     "data": {
      "application/vnd.jupyter.widget-view+json": {
       "model_id": "d7d0a6307cf948f2aeef394ff09cf535",
       "version_major": 2,
       "version_minor": 0
      },
      "text/plain": [
       "Export report to file:   0%|          | 0/1 [00:00<?, ?it/s]"
      ]
     },
     "metadata": {},
     "output_type": "display_data"
    },
    {
     "name": "stdout",
     "output_type": "stream",
     "text": [
      "                                            Description    Category\n",
      "0     оплата бульон роллтон домашний куриный счёт сумма  FOOD_GOODS\n",
      "1     оплата товарный накладный октябрь конфета алён...  FOOD_GOODS\n",
      "2     оплата конфета milla vanilla трюфель классичес...  FOOD_GOODS\n",
      "3                оплата сушёный вяленый рыба счёт сумма  FOOD_GOODS\n",
      "4               оплата аванс гсм счёт договор сумма ндс  FOOD_GOODS\n",
      "...                                                 ...         ...\n",
      "2090  оплата договор июнь счёт июнь дымовский колбас...  FOOD_GOODS\n",
      "2091                      оплата киви счёт ноябрь сумма  FOOD_GOODS\n",
      "2092  оплата шницель свиной ресторий охладить счёт и...  FOOD_GOODS\n",
      "2093            оплата фарш говяжий ресторий счёт сумма  FOOD_GOODS\n",
      "2094  оплата договор декабрь сырьё пищевой промышлен...  FOOD_GOODS\n",
      "\n",
      "[2095 rows x 2 columns]\n"
     ]
    },
    {
     "data": {
      "application/vnd.jupyter.widget-view+json": {
       "model_id": "1c150a164802487ca502c675fbc41181",
       "version_major": 2,
       "version_minor": 0
      },
      "text/plain": [
       "Summarize dataset:   0%|          | 0/5 [00:00<?, ?it/s]"
      ]
     },
     "metadata": {},
     "output_type": "display_data"
    },
    {
     "data": {
      "application/vnd.jupyter.widget-view+json": {
       "model_id": "a48919c6aa77421cac8678f9c6d6bbec",
       "version_major": 2,
       "version_minor": 0
      },
      "text/plain": [
       "Generate report structure:   0%|          | 0/1 [00:00<?, ?it/s]"
      ]
     },
     "metadata": {},
     "output_type": "display_data"
    },
    {
     "data": {
      "application/vnd.jupyter.widget-view+json": {
       "model_id": "3a1438c0011443ab880fa909815eeb13",
       "version_major": 2,
       "version_minor": 0
      },
      "text/plain": [
       "Render HTML:   0%|          | 0/1 [00:00<?, ?it/s]"
      ]
     },
     "metadata": {},
     "output_type": "display_data"
    },
    {
     "data": {
      "application/vnd.jupyter.widget-view+json": {
       "model_id": "b2ebe8e65d9f43cc939e31f27b91d4a1",
       "version_major": 2,
       "version_minor": 0
      },
      "text/plain": [
       "Export report to file:   0%|          | 0/1 [00:00<?, ?it/s]"
      ]
     },
     "metadata": {},
     "output_type": "display_data"
    },
    {
     "name": "stdout",
     "output_type": "stream",
     "text": [
      "                                            Description Category\n",
      "0     оплата счёт рамка договор финансовый аренда де...  LEASING\n",
      "1       оплата счёт рамка договор финансовый аренда ндс  LEASING\n",
      "2     окончательный расчёт акт приемапередача догово...  LEASING\n",
      "3     окончательный расчёт акт приемапередача догово...  LEASING\n",
      "4            оплата акт сверка рамка договор лизинг ндс  LEASING\n",
      "...                                                 ...      ...\n",
      "1148  оплата счёт июль рамка договор финансовый арен...  LEASING\n",
      "1149  оплата счёт май рамка договор финансовый аренд...  LEASING\n",
      "1150  возмещение расход страхование осаго договор ли...  LEASING\n",
      "1151  окончательный расчёт акт приемапередача апрель...  LEASING\n",
      "1152  окончательный расчёт акт приемапередача догово...  LEASING\n",
      "\n",
      "[1153 rows x 2 columns]\n"
     ]
    },
    {
     "data": {
      "application/vnd.jupyter.widget-view+json": {
       "model_id": "0acc650e044b4d58b1e3fd7760f39685",
       "version_major": 2,
       "version_minor": 0
      },
      "text/plain": [
       "Summarize dataset:   0%|          | 0/5 [00:00<?, ?it/s]"
      ]
     },
     "metadata": {},
     "output_type": "display_data"
    },
    {
     "data": {
      "application/vnd.jupyter.widget-view+json": {
       "model_id": "77ea5b8718a14692bb035df6cc1e731d",
       "version_major": 2,
       "version_minor": 0
      },
      "text/plain": [
       "Generate report structure:   0%|          | 0/1 [00:00<?, ?it/s]"
      ]
     },
     "metadata": {},
     "output_type": "display_data"
    },
    {
     "data": {
      "application/vnd.jupyter.widget-view+json": {
       "model_id": "9f4ccda838a54af0bd8f52ecbf11d124",
       "version_major": 2,
       "version_minor": 0
      },
      "text/plain": [
       "Render HTML:   0%|          | 0/1 [00:00<?, ?it/s]"
      ]
     },
     "metadata": {},
     "output_type": "display_data"
    },
    {
     "data": {
      "application/vnd.jupyter.widget-view+json": {
       "model_id": "4b07b9ca12e54ccc901d29469146b8d7",
       "version_major": 2,
       "version_minor": 0
      },
      "text/plain": [
       "Export report to file:   0%|          | 0/1 [00:00<?, ?it/s]"
      ]
     },
     "metadata": {},
     "output_type": "display_data"
    },
    {
     "name": "stdout",
     "output_type": "stream",
     "text": [
      "                                           Description        Category\n",
      "0        перевод собственный средство собственный счёт  NOT_CLASSIFIED\n",
      "1                    перевод средство собственный счёт  NOT_CLASSIFIED\n",
      "2                                              перевод  NOT_CLASSIFIED\n",
      "3                     оплата дог гсоглсча гсчетфактура  NOT_CLASSIFIED\n",
      "4      оплата аванс гсм счёт договор октябрь сумма ндс  NOT_CLASSIFIED\n",
      "..                                                 ...             ...\n",
      "177            оплата специя напиток счёт апрель сумма  NOT_CLASSIFIED\n",
      "178  оплата дог февраль соглый оплата сброс загрязн...  NOT_CLASSIFIED\n",
      "179  частичный оплата счёт октбярить костюм фаворит...  NOT_CLASSIFIED\n",
      "180  оплата дог май соглый оплата сброс загрязнять ...  NOT_CLASSIFIED\n",
      "181                  перевод срдество собственный счёт  NOT_CLASSIFIED\n",
      "\n",
      "[182 rows x 2 columns]\n"
     ]
    },
    {
     "data": {
      "application/vnd.jupyter.widget-view+json": {
       "model_id": "0c8536e64b4a4e26b13154388ed9ed36",
       "version_major": 2,
       "version_minor": 0
      },
      "text/plain": [
       "Summarize dataset:   0%|          | 0/5 [00:00<?, ?it/s]"
      ]
     },
     "metadata": {},
     "output_type": "display_data"
    },
    {
     "data": {
      "application/vnd.jupyter.widget-view+json": {
       "model_id": "076ec877fa184aa3b9b3d91d9b6adc46",
       "version_major": 2,
       "version_minor": 0
      },
      "text/plain": [
       "Generate report structure:   0%|          | 0/1 [00:00<?, ?it/s]"
      ]
     },
     "metadata": {},
     "output_type": "display_data"
    },
    {
     "data": {
      "application/vnd.jupyter.widget-view+json": {
       "model_id": "37aba14e42b34e33ab54c80cd3b35330",
       "version_major": 2,
       "version_minor": 0
      },
      "text/plain": [
       "Render HTML:   0%|          | 0/1 [00:00<?, ?it/s]"
      ]
     },
     "metadata": {},
     "output_type": "display_data"
    },
    {
     "data": {
      "application/vnd.jupyter.widget-view+json": {
       "model_id": "d049c73007214b3abb167588947c3a22",
       "version_major": 2,
       "version_minor": 0
      },
      "text/plain": [
       "Export report to file:   0%|          | 0/1 [00:00<?, ?it/s]"
      ]
     },
     "metadata": {},
     "output_type": "display_data"
    },
    {
     "name": "stdout",
     "output_type": "stream",
     "text": [
      "                                            Description        Category\n",
      "0     предоплата дог раствор водный натриевый соль п...  NON_FOOD_GOODS\n",
      "1     частичный оплата счёт август костюм фаворитсум...  NON_FOOD_GOODS\n",
      "2         оплата грунт seasons универсальный счёт сумма  NON_FOOD_GOODS\n",
      "3     оплата мешок мусор liberhaus сверхпрочный счёт...  NON_FOOD_GOODS\n",
      "4     оплата очиститель tiret стиральный машина счёт...  NON_FOOD_GOODS\n",
      "...                                                 ...             ...\n",
      "1621    оплата запасный часть оборудование счёт договор  NON_FOOD_GOODS\n",
      "1622          оплата счёт ноябрь бетон марка мсумма ндс  NON_FOOD_GOODS\n",
      "1623  оплата кружка пластишок детский ассортимент сч...  NON_FOOD_GOODS\n",
      "1624         оплата дезодорант seasons обувь счёт сумма  NON_FOOD_GOODS\n",
      "1625  оплата полотенце econta хсм ассортимент счёт и...  NON_FOOD_GOODS\n",
      "\n",
      "[1626 rows x 2 columns]\n"
     ]
    },
    {
     "data": {
      "application/vnd.jupyter.widget-view+json": {
       "model_id": "6c0f35e7c71547c3ab7c29ca5e4b51c7",
       "version_major": 2,
       "version_minor": 0
      },
      "text/plain": [
       "Summarize dataset:   0%|          | 0/5 [00:00<?, ?it/s]"
      ]
     },
     "metadata": {},
     "output_type": "display_data"
    },
    {
     "data": {
      "application/vnd.jupyter.widget-view+json": {
       "model_id": "eba76dd3385e4d10a9f88915014b3a9a",
       "version_major": 2,
       "version_minor": 0
      },
      "text/plain": [
       "Generate report structure:   0%|          | 0/1 [00:00<?, ?it/s]"
      ]
     },
     "metadata": {},
     "output_type": "display_data"
    },
    {
     "data": {
      "application/vnd.jupyter.widget-view+json": {
       "model_id": "bef27a2f78254a0191568523cdbd0bb4",
       "version_major": 2,
       "version_minor": 0
      },
      "text/plain": [
       "Render HTML:   0%|          | 0/1 [00:00<?, ?it/s]"
      ]
     },
     "metadata": {},
     "output_type": "display_data"
    },
    {
     "data": {
      "application/vnd.jupyter.widget-view+json": {
       "model_id": "1939be9e32d7441282a6ba18096aefae",
       "version_major": 2,
       "version_minor": 0
      },
      "text/plain": [
       "Export report to file:   0%|          | 0/1 [00:00<?, ?it/s]"
      ]
     },
     "metadata": {},
     "output_type": "display_data"
    },
    {
     "name": "stdout",
     "output_type": "stream",
     "text": [
      "                                         Description Category\n",
      "0         возврат денежный средство договор заём ндс     LOAN\n",
      "1            оплата договор процентный заём июль ндс     LOAN\n",
      "2          оплата договор процентный заём январь ндс     LOAN\n",
      "3         возврат денежный средство договор заём ндс     LOAN\n",
      "4                                           алименты     LOAN\n",
      "..                                               ...      ...\n",
      "537        оплата договор процентный заём январь ндс     LOAN\n",
      "538        оплата диск ватный pupi счёт январь сумма     LOAN\n",
      "539            оплата процент период октябрь договор     LOAN\n",
      "540             оплата процент период ноябрь договор     LOAN\n",
      "541  возврат денежный средство договор заём июнь ндс     LOAN\n",
      "\n",
      "[542 rows x 2 columns]\n"
     ]
    },
    {
     "data": {
      "application/vnd.jupyter.widget-view+json": {
       "model_id": "cc97c7783fb14e8ca0db0ed0d882bfc5",
       "version_major": 2,
       "version_minor": 0
      },
      "text/plain": [
       "Summarize dataset:   0%|          | 0/5 [00:00<?, ?it/s]"
      ]
     },
     "metadata": {},
     "output_type": "display_data"
    },
    {
     "data": {
      "application/vnd.jupyter.widget-view+json": {
       "model_id": "1c30508f50de4c04974793811cbc541d",
       "version_major": 2,
       "version_minor": 0
      },
      "text/plain": [
       "Generate report structure:   0%|          | 0/1 [00:00<?, ?it/s]"
      ]
     },
     "metadata": {},
     "output_type": "display_data"
    },
    {
     "data": {
      "application/vnd.jupyter.widget-view+json": {
       "model_id": "a32754cf191f48d18268165562221e9d",
       "version_major": 2,
       "version_minor": 0
      },
      "text/plain": [
       "Render HTML:   0%|          | 0/1 [00:00<?, ?it/s]"
      ]
     },
     "metadata": {},
     "output_type": "display_data"
    },
    {
     "data": {
      "application/vnd.jupyter.widget-view+json": {
       "model_id": "dee60432f133455ab1381de4227eafb6",
       "version_major": 2,
       "version_minor": 0
      },
      "text/plain": [
       "Export report to file:   0%|          | 0/1 [00:00<?, ?it/s]"
      ]
     },
     "metadata": {},
     "output_type": "display_data"
    },
    {
     "name": "stdout",
     "output_type": "stream",
     "text": [
      "                                           Description     Category\n",
      "0    предвариельный договор октябрь квартира адрес ...  REAL_ESTATE\n",
      "1    предвариельный договор квартира адрес тольятти...  REAL_ESTATE\n",
      "2              обеспечительный платёж виллудоговор май  REAL_ESTATE\n",
      "3    предвариельный договор июнь квартира адрес пуш...  REAL_ESTATE\n",
      "4    оплата догвор куплипродажа вилла адрес северск...  REAL_ESTATE\n",
      "..                                                 ...          ...\n",
      "878  приобретение недвижимость адрес абакан дорожны...  REAL_ESTATE\n",
      "879     оплата счёт аренда помещение договор субаренда  REAL_ESTATE\n",
      "880   доплата счёт май аренда помещение январь договор  REAL_ESTATE\n",
      "881  паевой взнос жилищностроительный кооператив це...  REAL_ESTATE\n",
      "882  предвариельный договор квартира адрес бердск л...  REAL_ESTATE\n",
      "\n",
      "[883 rows x 2 columns]\n"
     ]
    },
    {
     "data": {
      "application/vnd.jupyter.widget-view+json": {
       "model_id": "ef9d319ff0ad493995b7db73566a2092",
       "version_major": 2,
       "version_minor": 0
      },
      "text/plain": [
       "Summarize dataset:   0%|          | 0/5 [00:00<?, ?it/s]"
      ]
     },
     "metadata": {},
     "output_type": "display_data"
    },
    {
     "data": {
      "application/vnd.jupyter.widget-view+json": {
       "model_id": "a57aa95f5acb4fac9a0938d3d7d5e7b5",
       "version_major": 2,
       "version_minor": 0
      },
      "text/plain": [
       "Generate report structure:   0%|          | 0/1 [00:00<?, ?it/s]"
      ]
     },
     "metadata": {},
     "output_type": "display_data"
    },
    {
     "data": {
      "application/vnd.jupyter.widget-view+json": {
       "model_id": "460a0ba64f504fe393d4f03be52cb94a",
       "version_major": 2,
       "version_minor": 0
      },
      "text/plain": [
       "Render HTML:   0%|          | 0/1 [00:00<?, ?it/s]"
      ]
     },
     "metadata": {},
     "output_type": "display_data"
    },
    {
     "data": {
      "application/vnd.jupyter.widget-view+json": {
       "model_id": "aae796ad1f26477a9e49f6ef0d23e944",
       "version_major": 2,
       "version_minor": 0
      },
      "text/plain": [
       "Export report to file:   0%|          | 0/1 [00:00<?, ?it/s]"
      ]
     },
     "metadata": {},
     "output_type": "display_data"
    }
   ],
   "source": [
    "for key, value in categorial_dfs.items():\n",
    "    print(value)\n",
    "    df = value\n",
    "    create_report(df, key)"
   ]
  },
  {
   "cell_type": "code",
   "execution_count": null,
   "metadata": {},
   "outputs": [],
   "source": []
  }
 ],
 "metadata": {
  "kernelspec": {
   "display_name": "BIV_2024",
   "language": "python",
   "name": "python3"
  },
  "language_info": {
   "codemirror_mode": {
    "name": "ipython",
    "version": 3
   },
   "file_extension": ".py",
   "mimetype": "text/x-python",
   "name": "python",
   "nbconvert_exporter": "python",
   "pygments_lexer": "ipython3",
   "version": "3.8.20"
  }
 },
 "nbformat": 4,
 "nbformat_minor": 2
}
