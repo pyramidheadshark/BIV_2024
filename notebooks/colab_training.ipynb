{
  "nbformat": 4,
  "nbformat_minor": 0,
  "metadata": {
    "colab": {
      "provenance": [],
      "gpuType": "T4"
    },
    "kernelspec": {
      "name": "python3",
      "display_name": "Python 3"
    },
    "language_info": {
      "name": "python"
    },
    "accelerator": "GPU"
  },
  "cells": [
    {
      "cell_type": "markdown",
      "source": [
        "**Клонирование репозитония**"
      ],
      "metadata": {
        "id": "ERVpzUU15dHZ"
      }
    },
    {
      "cell_type": "code",
      "source": [
        "!git clone https://github.com/pyramidheadshark/BIV_2024.git"
      ],
      "metadata": {
        "colab": {
          "base_uri": "https://localhost:8080/"
        },
        "id": "8HdrzzMB_SCf",
        "outputId": "8345eb86-8f99-4e34-bb6e-e80e1d498b9d"
      },
      "execution_count": 2,
      "outputs": [
        {
          "output_type": "stream",
          "name": "stdout",
          "text": [
            "Cloning into 'BIV_2024'...\n",
            "remote: Enumerating objects: 130, done.\u001b[K\n",
            "remote: Counting objects: 100% (130/130), done.\u001b[K\n",
            "remote: Compressing objects: 100% (90/90), done.\u001b[K\n",
            "remote: Total 130 (delta 49), reused 110 (delta 30), pack-reused 0 (from 0)\u001b[K\n",
            "Receiving objects: 100% (130/130), 22.27 MiB | 14.22 MiB/s, done.\n",
            "Resolving deltas: 100% (49/49), done.\n"
          ]
        }
      ]
    },
    {
      "cell_type": "markdown",
      "source": [
        "### Тренировка модели"
      ],
      "metadata": {
        "id": "5rJCoFww6cNC"
      }
    },
    {
      "cell_type": "code",
      "source": [
        "!pip install datasets > None\n",
        "!pip install onnxruntime > None\n",
        "!pip install optimum > None\n",
        "!pip install onnx > None"
      ],
      "metadata": {
        "id": "O3iouAcV_gn-"
      },
      "execution_count": 6,
      "outputs": []
    },
    {
      "cell_type": "code",
      "source": [
        "!python3 src/models_dev/train.py \\\n",
        "                   --file_path data/processed/payments_categorized_v3.tsv\\\n",
        "                   --model_name sergeyzh/rubert-tiny-turbo \\\n",
        "                   --output_dir ./results \\\n",
        "                   --batch_size 512 \\\n",
        "                   --epochs 50 \\\n",
        "                   --learning_rate 5e-5 \\\n",
        "                   --save_path models/trained_model"
      ],
      "metadata": {
        "colab": {
          "base_uri": "https://localhost:8080/"
        },
        "id": "8O_yfckW_975",
        "outputId": "3236f56c-98f6-42be-9240-acdb08b8de30"
      },
      "execution_count": 26,
      "outputs": [
        {
          "output_type": "stream",
          "name": "stdout",
          "text": [
            "2024-11-16 18:10:20.890282: E external/local_xla/xla/stream_executor/cuda/cuda_fft.cc:485] Unable to register cuFFT factory: Attempting to register factory for plugin cuFFT when one has already been registered\n",
            "2024-11-16 18:10:20.911122: E external/local_xla/xla/stream_executor/cuda/cuda_dnn.cc:8454] Unable to register cuDNN factory: Attempting to register factory for plugin cuDNN when one has already been registered\n",
            "2024-11-16 18:10:20.917143: E external/local_xla/xla/stream_executor/cuda/cuda_blas.cc:1452] Unable to register cuBLAS factory: Attempting to register factory for plugin cuBLAS when one has already been registered\n",
            "2024-11-16 18:10:20.931111: I tensorflow/core/platform/cpu_feature_guard.cc:210] This TensorFlow binary is optimized to use available CPU instructions in performance-critical operations.\n",
            "To enable the following instructions: AVX2 AVX512F FMA, in other operations, rebuild TensorFlow with the appropriate compiler flags.\n",
            "2024-11-16 18:10:22.386377: W tensorflow/compiler/tf2tensorrt/utils/py_utils.cc:38] TF-TRT Warning: Could not find TensorRT\n",
            "/content/BIV_2024/src/models_dev/train.py:14: SettingWithCopyWarning: \n",
            "A value is trying to be set on a copy of a slice from a DataFrame.\n",
            "Try using .loc[row_indexer,col_indexer] = value instead\n",
            "\n",
            "See the caveats in the documentation: https://pandas.pydata.org/pandas-docs/stable/user_guide/indexing.html#returning-a-view-versus-a-copy\n",
            "  df['category'] = df['category'].astype('category').cat.codes\n",
            "/content/BIV_2024/src/models_dev/train.py:14: SettingWithCopyWarning: \n",
            "A value is trying to be set on a copy of a slice from a DataFrame.\n",
            "Try using .loc[row_indexer,col_indexer] = value instead\n",
            "\n",
            "See the caveats in the documentation: https://pandas.pydata.org/pandas-docs/stable/user_guide/indexing.html#returning-a-view-versus-a-copy\n",
            "  df['category'] = df['category'].astype('category').cat.codes\n",
            "Some weights of BertForSequenceClassification were not initialized from the model checkpoint at sergeyzh/rubert-tiny-turbo and are newly initialized: ['classifier.bias', 'classifier.weight']\n",
            "You should probably TRAIN this model on a down-stream task to be able to use it for predictions and inference.\n",
            "Map: 100% 14243/14243 [00:02<00:00, 7091.73 examples/s]\n",
            "Map: 100% 3561/3561 [00:00<00:00, 7175.92 examples/s]\n",
            "/usr/local/lib/python3.10/dist-packages/transformers/training_args.py:1568: FutureWarning: `evaluation_strategy` is deprecated and will be removed in version 4.46 of 🤗 Transformers. Use `eval_strategy` instead\n",
            "  warnings.warn(\n",
            "/content/BIV_2024/src/models_dev/train.py:79: FutureWarning: `tokenizer` is deprecated and will be removed in version 5.0.0 for `Trainer.__init__`. Use `processing_class` instead.\n",
            "  trainer = Trainer(\n",
            "\u001b[34m\u001b[1mwandb\u001b[0m: \u001b[33mWARNING\u001b[0m The `run_name` is currently set to the same value as `TrainingArguments.output_dir`. If this was not intended, please specify a different run name by setting the `TrainingArguments.run_name` parameter.\n",
            "\u001b[34m\u001b[1mwandb\u001b[0m: Using wandb-core as the SDK backend.  Please refer to https://wandb.me/wandb-core for more information.\n",
            "\u001b[34m\u001b[1mwandb\u001b[0m: (1) Create a W&B account\n",
            "\u001b[34m\u001b[1mwandb\u001b[0m: (2) Use an existing W&B account\n",
            "\u001b[34m\u001b[1mwandb\u001b[0m: (3) Don't visualize my results\n",
            "\u001b[34m\u001b[1mwandb\u001b[0m: Enter your choice: 3\n",
            "\u001b[34m\u001b[1mwandb\u001b[0m: You chose \"Don't visualize my results\"\n",
            "\u001b[34m\u001b[1mwandb\u001b[0m: Tracking run with wandb version 0.18.6\n",
            "\u001b[34m\u001b[1mwandb\u001b[0m: W&B syncing is set to \u001b[1m`offline`\u001b[0m in this directory.  \n",
            "\u001b[34m\u001b[1mwandb\u001b[0m: Run \u001b[1m`wandb online`\u001b[0m or set \u001b[1mWANDB_MODE=online\u001b[0m to enable cloud syncing.\n",
            "  7% 100/1400 [00:34<07:37,  2.84it/s]\n",
            "  0% 0/7 [00:00<?, ?it/s]\u001b[A\n",
            " 29% 2/7 [00:00<00:00, 14.23it/s]\u001b[A\n",
            " 57% 4/7 [00:00<00:00,  8.59it/s]\u001b[A\n",
            " 71% 5/7 [00:00<00:00,  7.87it/s]\u001b[A\n",
            "                                      \n",
            "\u001b[A{'eval_loss': 1.024213194847107, 'eval_accuracy': 0.7444538051109238, 'eval_f1': 0.7271535226845058, 'eval_runtime': 1.0399, 'eval_samples_per_second': 3424.262, 'eval_steps_per_second': 6.731, 'epoch': 3.57}\n",
            "  7% 100/1400 [00:35<07:37,  2.84it/s]\n",
            "100% 7/7 [00:00<00:00,  7.76it/s]\u001b[A\n",
            " 14% 200/1400 [01:09<06:37,  3.02it/s]\n",
            "  0% 0/7 [00:00<?, ?it/s]\u001b[A\n",
            " 29% 2/7 [00:00<00:00, 18.50it/s]\u001b[A\n",
            " 57% 4/7 [00:00<00:00, 10.94it/s]\u001b[A\n",
            "                                      \n",
            "\u001b[A{'eval_loss': 0.9481563568115234, 'eval_accuracy': 0.7584948048301039, 'eval_f1': 0.7460186906273505, 'eval_runtime': 0.8086, 'eval_samples_per_second': 4404.112, 'eval_steps_per_second': 8.657, 'epoch': 7.14}\n",
            " 14% 200/1400 [01:10<06:37,  3.02it/s]\n",
            "100% 7/7 [00:00<00:00,  9.94it/s]\u001b[A\n",
            " 21% 300/1400 [01:44<06:26,  2.85it/s]\n",
            "  0% 0/7 [00:00<?, ?it/s]\u001b[A\n",
            " 29% 2/7 [00:00<00:00, 15.21it/s]\u001b[A\n",
            " 57% 4/7 [00:00<00:00,  9.05it/s]\u001b[A\n",
            "                                      \n",
            "\u001b[A{'eval_loss': 0.9095429182052612, 'eval_accuracy': 0.7669194046616119, 'eval_f1': 0.7582089260340132, 'eval_runtime': 1.0236, 'eval_samples_per_second': 3479.049, 'eval_steps_per_second': 6.839, 'epoch': 10.71}\n",
            " 21% 300/1400 [01:45<06:26,  2.85it/s]\n",
            "100% 7/7 [00:00<00:00,  7.85it/s]\u001b[A\n",
            " 29% 400/1400 [02:18<05:32,  3.01it/s]\n",
            "  0% 0/7 [00:00<?, ?it/s]\u001b[A\n",
            " 29% 2/7 [00:00<00:00, 17.01it/s]\u001b[A\n",
            " 57% 4/7 [00:00<00:00, 10.92it/s]\u001b[A\n",
            "                                      \n",
            "\u001b[A{'eval_loss': 0.862616240978241, 'eval_accuracy': 0.7787138444257231, 'eval_f1': 0.7702652053485105, 'eval_runtime': 0.8121, 'eval_samples_per_second': 4384.991, 'eval_steps_per_second': 8.62, 'epoch': 14.29}\n",
            " 29% 400/1400 [02:19<05:32,  3.01it/s]\n",
            "100% 7/7 [00:00<00:00,  9.90it/s]\u001b[A\n",
            "{'loss': 1.0037, 'grad_norm': 2.052290916442871, 'learning_rate': 3.2142857142857144e-05, 'epoch': 17.86}\n",
            " 36% 500/1400 [02:53<05:13,  2.88it/s]\n",
            "  0% 0/7 [00:00<?, ?it/s]\u001b[A\n",
            " 29% 2/7 [00:00<00:00, 15.20it/s]\u001b[A\n",
            " 57% 4/7 [00:00<00:00,  8.90it/s]\u001b[A\n",
            "                                      \n",
            "\u001b[A{'eval_loss': 0.8272977471351624, 'eval_accuracy': 0.7882617242347655, 'eval_f1': 0.7789631104223546, 'eval_runtime': 1.0157, 'eval_samples_per_second': 3505.866, 'eval_steps_per_second': 6.892, 'epoch': 17.86}\n",
            " 36% 500/1400 [02:54<05:13,  2.88it/s]\n",
            "100% 7/7 [00:00<00:00,  7.88it/s]\u001b[A\n",
            " 43% 600/1400 [03:30<04:57,  2.69it/s]\n",
            "  0% 0/7 [00:00<?, ?it/s]\u001b[A\n",
            " 29% 2/7 [00:00<00:00, 18.13it/s]\u001b[A\n",
            " 57% 4/7 [00:00<00:00, 11.16it/s]\u001b[A\n",
            "                                      \n",
            "\u001b[A{'eval_loss': 0.7829685211181641, 'eval_accuracy': 0.802021903959562, 'eval_f1': 0.7938674644714864, 'eval_runtime': 0.7993, 'eval_samples_per_second': 4455.014, 'eval_steps_per_second': 8.757, 'epoch': 21.43}\n",
            " 43% 600/1400 [03:30<04:57,  2.69it/s]\n",
            "100% 7/7 [00:00<00:00, 10.02it/s]\u001b[A\n",
            " 50% 700/1400 [04:04<03:44,  3.12it/s]\n",
            "  0% 0/7 [00:00<?, ?it/s]\u001b[A\n",
            " 29% 2/7 [00:00<00:00, 14.80it/s]\u001b[A\n",
            " 57% 4/7 [00:00<00:00,  8.87it/s]\u001b[A\n",
            "                                      \n",
            "\u001b[A{'eval_loss': 0.7627196907997131, 'eval_accuracy': 0.8087615838247684, 'eval_f1': 0.8013106224725227, 'eval_runtime': 1.0371, 'eval_samples_per_second': 3433.68, 'eval_steps_per_second': 6.75, 'epoch': 25.0}\n",
            " 50% 700/1400 [04:05<03:44,  3.12it/s]\n",
            "100% 7/7 [00:00<00:00,  7.73it/s]\u001b[A\n",
            " 57% 800/1400 [04:39<03:20,  2.99it/s]\n",
            "  0% 0/7 [00:00<?, ?it/s]\u001b[A\n",
            " 29% 2/7 [00:00<00:00, 18.75it/s]\u001b[A\n",
            " 57% 4/7 [00:00<00:00, 11.54it/s]\u001b[A\n",
            "                                      \n",
            "\u001b[A{'eval_loss': 0.7450405359268188, 'eval_accuracy': 0.8124122437517551, 'eval_f1': 0.8051975299042881, 'eval_runtime': 0.8056, 'eval_samples_per_second': 4420.202, 'eval_steps_per_second': 8.689, 'epoch': 28.57}\n",
            " 57% 800/1400 [04:40<03:20,  2.99it/s]\n",
            "100% 7/7 [00:00<00:00, 10.19it/s]\u001b[A\n",
            " 64% 900/1400 [05:14<03:00,  2.77it/s]\n",
            "  0% 0/7 [00:00<?, ?it/s]\u001b[A\n",
            " 29% 2/7 [00:00<00:00, 14.20it/s]\u001b[A\n",
            " 57% 4/7 [00:00<00:00,  8.31it/s]\u001b[A\n",
            " 71% 5/7 [00:00<00:00,  7.37it/s]\u001b[A\n",
            "                                      \n",
            "\u001b[A{'eval_loss': 0.725466251373291, 'eval_accuracy': 0.8205560235888796, 'eval_f1': 0.8140793607006616, 'eval_runtime': 1.0779, 'eval_samples_per_second': 3303.611, 'eval_steps_per_second': 6.494, 'epoch': 32.14}\n",
            " 64% 900/1400 [05:15<03:00,  2.77it/s]\n",
            "100% 7/7 [00:00<00:00,  7.25it/s]\u001b[A\n",
            "{'loss': 0.5873, 'grad_norm': 1.9034020900726318, 'learning_rate': 1.4285714285714285e-05, 'epoch': 35.71}\n",
            " 71% 1000/1400 [05:49<02:13,  2.99it/s]\n",
            "  0% 0/7 [00:00<?, ?it/s]\u001b[A\n",
            " 29% 2/7 [00:00<00:00, 18.69it/s]\u001b[A\n",
            " 57% 4/7 [00:00<00:00, 10.89it/s]\u001b[A\n",
            "                                       \n",
            "\u001b[A{'eval_loss': 0.7082688808441162, 'eval_accuracy': 0.8261724234765515, 'eval_f1': 0.8198432252673905, 'eval_runtime': 0.8136, 'eval_samples_per_second': 4377.004, 'eval_steps_per_second': 8.604, 'epoch': 35.71}\n",
            " 71% 1000/1400 [05:50<02:13,  2.99it/s]\n",
            "100% 7/7 [00:00<00:00,  9.81it/s]\u001b[A\n",
            " 79% 1100/1400 [06:25<01:50,  2.72it/s]\n",
            "  0% 0/7 [00:00<?, ?it/s]\u001b[A\n",
            " 29% 2/7 [00:00<00:00, 14.21it/s]\u001b[A\n",
            " 57% 4/7 [00:00<00:00,  8.76it/s]\u001b[A\n",
            " 71% 5/7 [00:00<00:00,  7.91it/s]\u001b[A\n",
            "                                       \n",
            "\u001b[A{'eval_loss': 0.7016560435295105, 'eval_accuracy': 0.8309463633810728, 'eval_f1': 0.8257891176991192, 'eval_runtime': 1.0253, 'eval_samples_per_second': 3473.167, 'eval_steps_per_second': 6.827, 'epoch': 39.29}\n",
            " 79% 1100/1400 [06:26<01:50,  2.72it/s]\n",
            "100% 7/7 [00:00<00:00,  8.06it/s]\u001b[A\n",
            " 86% 1200/1400 [07:00<01:05,  3.05it/s]\n",
            "  0% 0/7 [00:00<?, ?it/s]\u001b[A\n",
            " 29% 2/7 [00:00<00:00, 18.05it/s]\u001b[A\n",
            " 57% 4/7 [00:00<00:00, 11.03it/s]\u001b[A\n",
            "                                       \n",
            "\u001b[A{'eval_loss': 0.6930826902389526, 'eval_accuracy': 0.834316203313676, 'eval_f1': 0.8294710820209947, 'eval_runtime': 0.8005, 'eval_samples_per_second': 4448.515, 'eval_steps_per_second': 8.745, 'epoch': 42.86}\n",
            " 86% 1200/1400 [07:00<01:05,  3.05it/s]\n",
            "100% 7/7 [00:00<00:00, 10.03it/s]\u001b[A\n",
            " 93% 1300/1400 [07:34<00:37,  2.70it/s]\n",
            "  0% 0/7 [00:00<?, ?it/s]\u001b[A\n",
            " 29% 2/7 [00:00<00:00, 14.14it/s]\u001b[A\n",
            " 57% 4/7 [00:00<00:00,  8.67it/s]\u001b[A\n",
            " 71% 5/7 [00:00<00:00,  8.63it/s]\u001b[A\n",
            "                                       \n",
            "\u001b[A{'eval_loss': 0.6916201114654541, 'eval_accuracy': 0.834316203313676, 'eval_f1': 0.8292604582091808, 'eval_runtime': 0.9673, 'eval_samples_per_second': 3681.241, 'eval_steps_per_second': 7.236, 'epoch': 46.43}\n",
            " 93% 1300/1400 [07:35<00:37,  2.70it/s]\n",
            "100% 7/7 [00:00<00:00,  8.90it/s]\u001b[A\n",
            "100% 1400/1400 [08:09<00:00,  3.33it/s]\n",
            "  0% 0/7 [00:00<?, ?it/s]\u001b[A\n",
            " 29% 2/7 [00:00<00:00, 19.14it/s]\u001b[A\n",
            " 57% 4/7 [00:00<00:00, 11.51it/s]\u001b[A\n",
            "                                       \n",
            "\u001b[A{'eval_loss': 0.6903648972511292, 'eval_accuracy': 0.8345970233080595, 'eval_f1': 0.8295587027708674, 'eval_runtime': 0.7892, 'eval_samples_per_second': 4512.074, 'eval_steps_per_second': 8.87, 'epoch': 50.0}\n",
            "100% 1400/1400 [08:10<00:00,  3.33it/s]\n",
            "100% 7/7 [00:00<00:00, 10.22it/s]\u001b[A\n",
            "{'train_runtime': 503.6506, 'train_samples_per_second': 1413.976, 'train_steps_per_second': 2.78, 'train_loss': 0.6993424006870814, 'epoch': 50.0}\n",
            "100% 1400/1400 [08:11<00:00,  2.85it/s]\n",
            "100% 7/7 [00:00<00:00, 10.59it/s]\n",
            "{'eval_loss': 0.6903648972511292, 'eval_accuracy': 0.8345970233080595, 'eval_f1': 0.8295587027708674, 'eval_runtime': 0.8197, 'eval_samples_per_second': 4344.424, 'eval_steps_per_second': 8.54, 'epoch': 50.0}\n",
            "\u001b[1;34mwandb\u001b[0m:\n",
            "\u001b[1;34mwandb\u001b[0m: You can sync this run to the cloud by running:\n",
            "\u001b[1;34mwandb\u001b[0m: \u001b[1mwandb sync /content/BIV_2024/wandb/offline-run-20241116_181040-6b1af8h6\u001b[0m\n",
            "\u001b[1;34mwandb\u001b[0m: Find logs at: \u001b[1;35mwandb/offline-run-20241116_181040-6b1af8h6/logs\u001b[0m\n"
          ]
        }
      ]
    },
    {
      "cell_type": "markdown",
      "source": [
        "### Конвертация в onnx"
      ],
      "metadata": {
        "id": "QJ-5AD2f67hB"
      }
    },
    {
      "cell_type": "code",
      "source": [
        "!python3 src/models_dev/convert_to_onnx.py \\\n",
        "                            --model_path models/trained_model \\\n",
        "                            --onnx_path models/onnx_model"
      ],
      "metadata": {
        "colab": {
          "base_uri": "https://localhost:8080/"
        },
        "id": "Or-sJJmHB7T4",
        "outputId": "c2dd370f-09cb-42e9-e8ee-3f37e23ec8a8"
      },
      "execution_count": 27,
      "outputs": [
        {
          "output_type": "stream",
          "name": "stdout",
          "text": [
            "2024-11-16 18:19:25.224160: E external/local_xla/xla/stream_executor/cuda/cuda_fft.cc:485] Unable to register cuFFT factory: Attempting to register factory for plugin cuFFT when one has already been registered\n",
            "2024-11-16 18:19:25.244085: E external/local_xla/xla/stream_executor/cuda/cuda_dnn.cc:8454] Unable to register cuDNN factory: Attempting to register factory for plugin cuDNN when one has already been registered\n",
            "2024-11-16 18:19:25.250011: E external/local_xla/xla/stream_executor/cuda/cuda_blas.cc:1452] Unable to register cuBLAS factory: Attempting to register factory for plugin cuBLAS when one has already been registered\n",
            "2024-11-16 18:19:25.264085: I tensorflow/core/platform/cpu_feature_guard.cc:210] This TensorFlow binary is optimized to use available CPU instructions in performance-critical operations.\n",
            "To enable the following instructions: AVX2 AVX512F FMA, in other operations, rebuild TensorFlow with the appropriate compiler flags.\n",
            "2024-11-16 18:19:26.418803: W tensorflow/compiler/tf2tensorrt/utils/py_utils.cc:38] TF-TRT Warning: Could not find TensorRT\n",
            "Конвертация модели в формат ONNX...\n",
            "The argument `from_transformers` is deprecated, and will be removed in optimum 2.0.  Use `export` instead\n",
            "Модель успешно сохранена в формате ONNX: models/onnx_model\n"
          ]
        }
      ]
    },
    {
      "cell_type": "markdown",
      "source": [
        "### Квантирование"
      ],
      "metadata": {
        "id": "lMMV4HE_6_YB"
      }
    },
    {
      "cell_type": "code",
      "source": [
        "!python3 src/models_dev/quantize.py --onnx_model_path models/onnx_model/model.onnx \\\n",
        "                                --save_dir models/onnx_model \\\n",
        "                                --max_length 128"
      ],
      "metadata": {
        "colab": {
          "base_uri": "https://localhost:8080/"
        },
        "id": "duV0Baf3Di_v",
        "outputId": "fbe72a68-fc10-4311-c1ac-ff21758fbac3"
      },
      "execution_count": 28,
      "outputs": [
        {
          "output_type": "stream",
          "name": "stdout",
          "text": [
            "WARNING:root:Please consider to run pre-processing before quantization. Refer to example: https://github.com/microsoft/onnxruntime-inference-examples/blob/main/quantization/image_classification/cpu/ReadMe.md \n",
            "Модель квантована и сохранена: models/onnx_model/model_quantized.onnx\n"
          ]
        }
      ]
    },
    {
      "cell_type": "markdown",
      "source": [
        "### Тестирование скорости инференса"
      ],
      "metadata": {
        "id": "9We2zUae-EAh"
      }
    },
    {
      "cell_type": "code",
      "source": [
        "!python3 src/models_dev/q_infer.py --file_path data/raw/payments_main.tsv \\\n",
        "                 --model_path models/onnx_model/model_quantized.onnx \\\n",
        "                 --tokenizer_path models/onnx_model \\\n",
        "                 --output_file data/predictions.tsv \\\n",
        "                 --batch_size 64 \\\n",
        "                 --max_length 128"
      ],
      "metadata": {
        "colab": {
          "base_uri": "https://localhost:8080/"
        },
        "id": "JNRAAXZKDvh6",
        "outputId": "6554d822-432c-4197-da57-49cd1127d954"
      },
      "execution_count": 29,
      "outputs": [
        {
          "output_type": "stream",
          "name": "stdout",
          "text": [
            "Inferencing: 100% 391/391 [02:02<00:00,  3.19it/s]\n",
            "Predictions saved to data/predictions.tsv\n"
          ]
        }
      ]
    },
    {
      "cell_type": "code",
      "source": [
        "!zip -r models.zip models/onnx_model"
      ],
      "metadata": {
        "colab": {
          "base_uri": "https://localhost:8080/"
        },
        "id": "7-qrw6kMGFg-",
        "outputId": "57954db2-dca7-4cf2-aa14-80f7b6b3c3cc"
      },
      "execution_count": 30,
      "outputs": [
        {
          "output_type": "stream",
          "name": "stdout",
          "text": [
            "updating: models/onnx_model/ (stored 0%)\n",
            "updating: models/onnx_model/tokenizer_config.json (deflated 73%)\n",
            "updating: models/onnx_model/vocab.txt (deflated 64%)\n",
            "updating: models/onnx_model/model_quantized.onnx (deflated 39%)\n",
            "updating: models/onnx_model/model.onnx (deflated 8%)\n",
            "updating: models/onnx_model/special_tokens_map.json (deflated 80%)\n",
            "updating: models/onnx_model/config.json (deflated 56%)\n",
            "updating: models/onnx_model/tokenizer.json (deflated 73%)\n"
          ]
        }
      ]
    },
    {
      "cell_type": "markdown",
      "source": [
        "### Тестирование точности квантированной модели"
      ],
      "metadata": {
        "id": "wlR0weW7-K6h"
      }
    },
    {
      "cell_type": "code",
      "source": [
        "from sklearn.model_selection import train_test_split\n",
        "import pandas as pd\n",
        "\n",
        "data = pd.read_csv(\"data/processed/payments_categorized_v3.tsv\", sep='\\t', header=None, names=['date', 'amount', 'description', 'category'])\n",
        "data.drop(index=0, inplace=True)\n",
        "data = data.dropna(subset=['category'])\n",
        "train_data, val_data = train_test_split(data, test_size=0.2, stratify=data['category'], random_state=42)\n",
        "\n",
        "# Сохранение val_data для тестирования\n",
        "val_data.to_csv(\"data/processed/val_data.tsv\", sep='\\t', index=False)"
      ],
      "metadata": {
        "id": "68Cwtt4RGzTZ"
      },
      "execution_count": 31,
      "outputs": []
    },
    {
      "cell_type": "code",
      "source": [
        "!python3 src/models_dev/q_infer_val.py \\\n",
        "    --val_data_path data/processed/val_data.tsv \\\n",
        "    --model_path models/onnx_model/model_quantized.onnx \\\n",
        "    --tokenizer_path models/onnx_model \\\n",
        "    --batch_size 64 \\\n",
        "    --max_length 128"
      ],
      "metadata": {
        "colab": {
          "base_uri": "https://localhost:8080/"
        },
        "id": "yi98JL3wI2s2",
        "outputId": "e3652e40-b3f7-40b3-e63a-9996e0104ac8"
      },
      "execution_count": 32,
      "outputs": [
        {
          "output_type": "stream",
          "name": "stdout",
          "text": [
            "Inferencing: 100% 56/56 [00:17<00:00,  3.27it/s]\n",
            "True labels: [2, 3, 4, 4, 6, 8, 7, 4, 4, 6]\n",
            "Predictions: [2, 3, 4, 4, 6, 1, 7, 4, 4, 6]\n",
            "Validation Accuracy: 0.8458\n",
            "Validation F1 Score: 0.8392\n"
          ]
        }
      ]
    },
    {
      "cell_type": "code",
      "source": [],
      "metadata": {
        "id": "j7dnA3pJIMsm"
      },
      "execution_count": null,
      "outputs": []
    }
  ]
}